{
 "cells": [
  {
   "cell_type": "code",
   "execution_count": 1,
   "metadata": {},
   "outputs": [],
   "source": [
    "def deMorgans(E, F, S):\n",
    "    '''\n",
    "    Return, as a tuple of the form (Law A, Law B), each of the sets\n",
    "    associated with De Morgan's laws as applied to sets E and F.\n",
    "\n",
    "    Return \"Improper Specification\" if three sets are not supplied\n",
    "    or if the events E and F are not subsets of the sample space S.\n",
    "    \n",
    "    Parameters\n",
    "    ----------\n",
    "    E : {set} First event space\n",
    "    F : {set} Second event space\n",
    "    S : {set} Complete sample space\n",
    "\n",
    "    Returns\n",
    "    -------\n",
    "    tuple({set}, {set}) or {str} \n",
    "\n",
    "    Example:\n",
    "    >>> deMorgans(set([1,2,3]), set([2,3,4]), set([0,1,2,3,4,5]))\n",
    "    (set([0, 5]), set([0, 1, 2, 4, 5])\n",
    "    '''\n",
    "\n",
    "    if check_specs(E, F, S) == \"fail\":\n",
    "        return \"Improper Specification\"\n",
    "    else:\n",
    "        law_a = lawA(E, F, S)\n",
    "        law_b = lawB(E, F, S)\n",
    "    return (law_a, law_b)\n",
    "\n",
    "\n",
    "def check_specs(E, F, S):\n",
    "    conditions_met = 'fail'\n",
    "    \n",
    "    '''Check if all inputs are of the set type'''\n",
    "    if isinstance(E, set) and isinstance(F, set) and isinstance(S, set):\n",
    "        conditions_met = 'pass'\n",
    "    \n",
    "    '''Check if E and F are subsets of S'''\n",
    "    for i in E:\n",
    "        if i not in S:\n",
    "            conditions_met = 'fail'\n",
    "    for i in F:\n",
    "        if i not in S:\n",
    "            conditions_met = 'fail'\n",
    "            \n",
    "#     if S.intersection(E) != E or S.intersection(F) != F:\n",
    "#         conditions_met = 'fail'\n",
    "        \n",
    "    return conditions_met\n",
    "\n",
    "\n",
    "def lawA(E, F, S):\n",
    "    '''\n",
    "    Outcomes not in E anf F\n",
    "    \n",
    "    Return the compliment of the union of E and F\n",
    "    '''\n",
    "    return set([i for i in S if i not in list(E) + list(F)])\n",
    "#     return S - E.union(F)\n",
    "\n",
    "\n",
    "def lawB(E, F, S):\n",
    "    '''\n",
    "    Outcomes in E and F without duplicates\n",
    "    \n",
    "    Return the compliment of the intersection of E and F.\n",
    "    '''\n",
    "    intersection_set = [i for i in S if i in E and i in F]\n",
    "    return set([i for i in S if i not in intersection_set])\n",
    "\n",
    "#     return S - E.intersection(F)"
   ]
  },
  {
   "cell_type": "code",
   "execution_count": 12,
   "metadata": {},
   "outputs": [],
   "source": [
    "def deMorgans2(E, F, S):\n",
    "    '''\n",
    "    Return, as a tuple of the form (Law A, Law B), each of the sets\n",
    "    associated with De Morgan's laws as applied to sets E and F.\n",
    "\n",
    "    Return \"Improper Specification\" if three sets are not supplied\n",
    "    or if the events E and F are not subsets of the sample space S.\n",
    "    \n",
    "    Parameters\n",
    "    ----------\n",
    "    E : {set} First event space\n",
    "    F : {set} Second event space\n",
    "    S : {set} Complete sample space\n",
    "\n",
    "    Returns\n",
    "    -------\n",
    "    tuple({set}, {set}) or {str} \n",
    "\n",
    "    Example:\n",
    "    >>> deMorgans(set([1,2,3]), set([2,3,4]), set([0,1,2,3,4,5]))\n",
    "    (set([0, 5]), set([0, 1, 2, 4, 5])\n",
    "    '''\n",
    "\n",
    "    if check_specs(E, F, S) == \"fail\":\n",
    "        return \"Improper Specification\"\n",
    "    else:\n",
    "        law_a = lawA(E, F, S)\n",
    "        law_b = lawB(E, F, S)\n",
    "    return (law_a, law_b)\n",
    "\n",
    "\n",
    "def check_specs(E, F, S):\n",
    "    conditions_met = 'fail'\n",
    "    \n",
    "    '''Check if all inputs are of the set type'''\n",
    "    if type(E) == set and type(F) == set and type(S) == set:\n",
    "        conditions_met = 'pass'\n",
    "    \n",
    "    '''Check if E and F are subsets of S'''\n",
    "#     for i in E:\n",
    "#         if i not in S:\n",
    "#             conditions_met = 'fail'\n",
    "#     for i in F:\n",
    "#         if i not in S:\n",
    "#             conditions_met = 'fail'\n",
    "            \n",
    "    if S.intersection(E) != E and S.intersection(F) != F:\n",
    "        conditions_met = 'fail'\n",
    "        \n",
    "    return conditions_met\n",
    "\n",
    "\n",
    "def lawA(E, F, S):\n",
    "    '''\n",
    "    Outcomes not in E anf F\n",
    "    \n",
    "    Return the compliment of the union of E and F\n",
    "    '''\n",
    "#     return set([i for i in S if i not in list(E) + list(F)])\n",
    "    return S - E.union(F)\n",
    "\n",
    "\n",
    "def lawB(E, F, S):\n",
    "    '''\n",
    "    Outcomes in E and F without duplicates\n",
    "    \n",
    "    Return the compliment of the intersection of E and F.\n",
    "    '''\n",
    "#     intersection_set = [i for i in S if i in E and i in F]\n",
    "#     return set([i for i in S if i not in intersection_set])\n",
    "\n",
    "    return S - E.intersection(F)"
   ]
  },
  {
   "cell_type": "code",
   "execution_count": 3,
   "metadata": {},
   "outputs": [],
   "source": [
    "E = {2, 3, 4, 5, 6, 7}\n",
    "F = {4, 5, 6, 7, 8, 9}\n",
    "S = {1, 2, 3, 4, 5, 6, 7, 8, 9, 10}"
   ]
  },
  {
   "cell_type": "code",
   "execution_count": 4,
   "metadata": {},
   "outputs": [
    {
     "data": {
      "text/plain": [
       "({1, 10}, {1, 2, 3, 8, 9, 10})"
      ]
     },
     "execution_count": 4,
     "metadata": {},
     "output_type": "execute_result"
    }
   ],
   "source": [
    "deMorgans(E, F, S)"
   ]
  },
  {
   "cell_type": "code",
   "execution_count": 5,
   "metadata": {},
   "outputs": [
    {
     "data": {
      "text/plain": [
       "({1, 10}, {1, 2, 3, 8, 9, 10})"
      ]
     },
     "execution_count": 5,
     "metadata": {},
     "output_type": "execute_result"
    }
   ],
   "source": [
    "deMorgans2(E, F, S)"
   ]
  },
  {
   "cell_type": "code",
   "execution_count": 6,
   "metadata": {},
   "outputs": [
    {
     "data": {
      "text/plain": [
       "({0, 5}, {0, 1, 4, 5})"
      ]
     },
     "execution_count": 6,
     "metadata": {},
     "output_type": "execute_result"
    }
   ],
   "source": [
    "deMorgans(set([1,2,3]), set([2,3,4]), set([0,1,2,3,4,5]))"
   ]
  },
  {
   "cell_type": "code",
   "execution_count": 7,
   "metadata": {},
   "outputs": [
    {
     "data": {
      "text/plain": [
       "({0, 5}, {0, 1, 4, 5})"
      ]
     },
     "execution_count": 7,
     "metadata": {},
     "output_type": "execute_result"
    }
   ],
   "source": [
    "deMorgans2(set([1,2,3]), set([2,3,4]), set([0,1,2,3,4,5]))"
   ]
  },
  {
   "cell_type": "code",
   "execution_count": 8,
   "metadata": {},
   "outputs": [
    {
     "data": {
      "text/plain": [
       "True"
      ]
     },
     "execution_count": 8,
     "metadata": {},
     "output_type": "execute_result"
    }
   ],
   "source": [
    "type(E) == set"
   ]
  },
  {
   "cell_type": "code",
   "execution_count": 9,
   "metadata": {},
   "outputs": [
    {
     "data": {
      "text/plain": [
       "True"
      ]
     },
     "execution_count": 9,
     "metadata": {},
     "output_type": "execute_result"
    }
   ],
   "source": [
    "isinstance(E, set)"
   ]
  },
  {
   "cell_type": "code",
   "execution_count": null,
   "metadata": {},
   "outputs": [],
   "source": []
  }
 ],
 "metadata": {
  "kernelspec": {
   "display_name": "Python 3",
   "language": "python",
   "name": "python3"
  },
  "language_info": {
   "codemirror_mode": {
    "name": "ipython",
    "version": 3
   },
   "file_extension": ".py",
   "mimetype": "text/x-python",
   "name": "python",
   "nbconvert_exporter": "python",
   "pygments_lexer": "ipython3",
   "version": "3.6.5"
  }
 },
 "nbformat": 4,
 "nbformat_minor": 2
}
