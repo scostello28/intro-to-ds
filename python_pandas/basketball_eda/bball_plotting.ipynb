{
 "cells": [
  {
   "cell_type": "code",
   "execution_count": 29,
   "metadata": {},
   "outputs": [],
   "source": [
    "import pandas as pd\n",
    "import numpy as np\n",
    "import matplotlib.pyplot as plt"
   ]
  },
  {
   "cell_type": "markdown",
   "metadata": {},
   "source": [
    "## load data"
   ]
  },
  {
   "cell_type": "code",
   "execution_count": 31,
   "metadata": {},
   "outputs": [
    {
     "data": {
      "text/html": [
       "<div>\n",
       "<style scoped>\n",
       "    .dataframe tbody tr th:only-of-type {\n",
       "        vertical-align: middle;\n",
       "    }\n",
       "\n",
       "    .dataframe tbody tr th {\n",
       "        vertical-align: top;\n",
       "    }\n",
       "\n",
       "    .dataframe thead th {\n",
       "        text-align: right;\n",
       "    }\n",
       "</style>\n",
       "<table border=\"1\" class=\"dataframe\">\n",
       "  <thead>\n",
       "    <tr style=\"text-align: right;\">\n",
       "      <th></th>\n",
       "      <th>Player</th>\n",
       "      <th>G</th>\n",
       "      <th>GS</th>\n",
       "      <th>MP</th>\n",
       "      <th>FG</th>\n",
       "      <th>FGA</th>\n",
       "      <th>FG%</th>\n",
       "      <th>2P</th>\n",
       "      <th>2PA</th>\n",
       "      <th>2P%</th>\n",
       "      <th>...</th>\n",
       "      <th>TOV</th>\n",
       "      <th>PF</th>\n",
       "      <th>PTS</th>\n",
       "      <th>ORtg</th>\n",
       "      <th>DRtg</th>\n",
       "      <th>Team</th>\n",
       "      <th>Season</th>\n",
       "      <th>Class</th>\n",
       "      <th>Pos</th>\n",
       "      <th>Height</th>\n",
       "    </tr>\n",
       "  </thead>\n",
       "  <tbody>\n",
       "    <tr>\n",
       "      <th>0</th>\n",
       "      <td>Julian Edmonson</td>\n",
       "      <td>30</td>\n",
       "      <td>5.0</td>\n",
       "      <td>568</td>\n",
       "      <td>10.5</td>\n",
       "      <td>26.2</td>\n",
       "      <td>0.401</td>\n",
       "      <td>6.2</td>\n",
       "      <td>15.2</td>\n",
       "      <td>0.411</td>\n",
       "      <td>...</td>\n",
       "      <td>5.6</td>\n",
       "      <td>6.6</td>\n",
       "      <td>34.5</td>\n",
       "      <td>102.3</td>\n",
       "      <td>107.9</td>\n",
       "      <td>abilene-christian</td>\n",
       "      <td>2014</td>\n",
       "      <td>3.0</td>\n",
       "      <td>G</td>\n",
       "      <td>73.0</td>\n",
       "    </tr>\n",
       "    <tr>\n",
       "      <th>1</th>\n",
       "      <td>Jacob Lancaster</td>\n",
       "      <td>31</td>\n",
       "      <td>11.0</td>\n",
       "      <td>434</td>\n",
       "      <td>12.0</td>\n",
       "      <td>21.7</td>\n",
       "      <td>0.553</td>\n",
       "      <td>11.8</td>\n",
       "      <td>21.5</td>\n",
       "      <td>0.551</td>\n",
       "      <td>...</td>\n",
       "      <td>5.6</td>\n",
       "      <td>6.7</td>\n",
       "      <td>29.1</td>\n",
       "      <td>102.9</td>\n",
       "      <td>99.3</td>\n",
       "      <td>abilene-christian</td>\n",
       "      <td>2014</td>\n",
       "      <td>3.0</td>\n",
       "      <td>F</td>\n",
       "      <td>82.0</td>\n",
       "    </tr>\n",
       "    <tr>\n",
       "      <th>2</th>\n",
       "      <td>Parker Wentz</td>\n",
       "      <td>31</td>\n",
       "      <td>29.0</td>\n",
       "      <td>1040</td>\n",
       "      <td>7.7</td>\n",
       "      <td>15.7</td>\n",
       "      <td>0.491</td>\n",
       "      <td>3.2</td>\n",
       "      <td>5.6</td>\n",
       "      <td>0.576</td>\n",
       "      <td>...</td>\n",
       "      <td>3.4</td>\n",
       "      <td>4.0</td>\n",
       "      <td>24.5</td>\n",
       "      <td>124.7</td>\n",
       "      <td>107.5</td>\n",
       "      <td>abilene-christian</td>\n",
       "      <td>2014</td>\n",
       "      <td>2.0</td>\n",
       "      <td>G</td>\n",
       "      <td>69.0</td>\n",
       "    </tr>\n",
       "    <tr>\n",
       "      <th>3</th>\n",
       "      <td>LaDarrien Williams</td>\n",
       "      <td>16</td>\n",
       "      <td>14.0</td>\n",
       "      <td>474</td>\n",
       "      <td>8.1</td>\n",
       "      <td>21.8</td>\n",
       "      <td>0.371</td>\n",
       "      <td>6.4</td>\n",
       "      <td>16.3</td>\n",
       "      <td>0.389</td>\n",
       "      <td>...</td>\n",
       "      <td>4.2</td>\n",
       "      <td>5.2</td>\n",
       "      <td>24.4</td>\n",
       "      <td>101.2</td>\n",
       "      <td>104.1</td>\n",
       "      <td>abilene-christian</td>\n",
       "      <td>2014</td>\n",
       "      <td>3.0</td>\n",
       "      <td>G</td>\n",
       "      <td>72.0</td>\n",
       "    </tr>\n",
       "    <tr>\n",
       "      <th>4</th>\n",
       "      <td>Harrison Hawkins</td>\n",
       "      <td>16</td>\n",
       "      <td>16.0</td>\n",
       "      <td>481</td>\n",
       "      <td>6.8</td>\n",
       "      <td>18.1</td>\n",
       "      <td>0.374</td>\n",
       "      <td>3.7</td>\n",
       "      <td>10.4</td>\n",
       "      <td>0.353</td>\n",
       "      <td>...</td>\n",
       "      <td>6.0</td>\n",
       "      <td>5.8</td>\n",
       "      <td>24.1</td>\n",
       "      <td>100.9</td>\n",
       "      <td>108.5</td>\n",
       "      <td>abilene-christian</td>\n",
       "      <td>2014</td>\n",
       "      <td>3.0</td>\n",
       "      <td>G</td>\n",
       "      <td>72.0</td>\n",
       "    </tr>\n",
       "  </tbody>\n",
       "</table>\n",
       "<p>5 rows × 30 columns</p>\n",
       "</div>"
      ],
      "text/plain": [
       "               Player   G    GS    MP    FG   FGA    FG%    2P   2PA    2P%  \\\n",
       "0     Julian Edmonson  30   5.0   568  10.5  26.2  0.401   6.2  15.2  0.411   \n",
       "1     Jacob Lancaster  31  11.0   434  12.0  21.7  0.553  11.8  21.5  0.551   \n",
       "2        Parker Wentz  31  29.0  1040   7.7  15.7  0.491   3.2   5.6  0.576   \n",
       "3  LaDarrien Williams  16  14.0   474   8.1  21.8  0.371   6.4  16.3  0.389   \n",
       "4    Harrison Hawkins  16  16.0   481   6.8  18.1  0.374   3.7  10.4  0.353   \n",
       "\n",
       "    ...    TOV   PF   PTS   ORtg   DRtg               Team  Season  Class  \\\n",
       "0   ...    5.6  6.6  34.5  102.3  107.9  abilene-christian    2014    3.0   \n",
       "1   ...    5.6  6.7  29.1  102.9   99.3  abilene-christian    2014    3.0   \n",
       "2   ...    3.4  4.0  24.5  124.7  107.5  abilene-christian    2014    2.0   \n",
       "3   ...    4.2  5.2  24.4  101.2  104.1  abilene-christian    2014    3.0   \n",
       "4   ...    6.0  5.8  24.1  100.9  108.5  abilene-christian    2014    3.0   \n",
       "\n",
       "   Pos  Height  \n",
       "0    G    73.0  \n",
       "1    F    82.0  \n",
       "2    G    69.0  \n",
       "3    G    72.0  \n",
       "4    G    72.0  \n",
       "\n",
       "[5 rows x 30 columns]"
      ]
     },
     "execution_count": 31,
     "metadata": {},
     "output_type": "execute_result"
    }
   ],
   "source": [
    "player_data = pd.read_pickle('player_stats.pkl')\n",
    "player_data.head()"
   ]
  },
  {
   "cell_type": "markdown",
   "metadata": {},
   "source": [
    "## analyze data by position\n"
   ]
  },
  {
   "cell_type": "code",
   "execution_count": 21,
   "metadata": {},
   "outputs": [
    {
     "name": "stdout",
     "output_type": "stream",
     "text": [
      "['G' 'F' 'C']\n"
     ]
    }
   ],
   "source": [
    "positions = player_data.Pos.dropna().unique()\n",
    "print(positions)"
   ]
  },
  {
   "cell_type": "markdown",
   "metadata": {},
   "source": [
    "### calculate mean points per year, by position"
   ]
  },
  {
   "cell_type": "code",
   "execution_count": 22,
   "metadata": {},
   "outputs": [],
   "source": [
    "mean_posn_pts = {}\n",
    "for pos in positions:\n",
    "    temp = player_data[player_data.Pos == pos].copy()\n",
    "    mean_annual_pts = temp.groupby('Season')['PTS'].mean()\n",
    "    mean_posn_pts[pos] = mean_annual_pts"
   ]
  },
  {
   "cell_type": "code",
   "execution_count": 24,
   "metadata": {},
   "outputs": [
    {
     "data": {
      "text/plain": [
       "Season\n",
       "2014    16.363557\n",
       "2015    16.700318\n",
       "2016    17.430822\n",
       "2017    17.517407\n",
       "2018    17.419141\n",
       "Name: PTS, dtype: float64"
      ]
     },
     "execution_count": 24,
     "metadata": {},
     "output_type": "execute_result"
    }
   ],
   "source": [
    "mean_posn_pts['C']"
   ]
  },
  {
   "cell_type": "markdown",
   "metadata": {},
   "source": [
    "### plot mean points by position"
   ]
  },
  {
   "cell_type": "code",
   "execution_count": 30,
   "metadata": {},
   "outputs": [
    {
     "data": {
      "image/png": "[encoded data removed]",
      "text/plain": [
       "<matplotlib.figure.Figure at 0x117f3d9b0>"
      ]
     },
     "metadata": {},
     "output_type": "display_data"
    }
   ],
   "source": [
    "colors = ['b','r','g'] # color each position differently\n",
    "\n",
    "# instatiate a figure object\n",
    "fig, ax = plt.subplots(figsize=(6,5))\n",
    "\n",
    "# plot a line for each postion, with its own color\n",
    "for pos, c in zip(positions, colors):\n",
    "    # define x, y vectors and plot\n",
    "    years = mean_posn_pts[pos].index\n",
    "    vals = mean_posn_pts[pos].values\n",
    "    ax.plot(years, vals, '-*', color=c, label='{}'.format(pos)) # label gets passed to legend object\n",
    "    \n",
    "# common plot attributes (title, legend, axis labels, etc)\n",
    "plt.legend(loc='lower right')\n",
    "plt.title('average annual points by position')\n",
    "plt.ylabel('points')\n",
    "plt.xlabel('year')\n",
    "plt.xticks(np.linspace(2014,2018,5)) # it was plotting at 1/2 year scale so I'm explicitly providing xticks\n",
    "plt.show()"
   ]
  },
  {
   "cell_type": "code",
   "execution_count": null,
   "metadata": {},
   "outputs": [],
   "source": []
  }
 ],
 "metadata": {
  "kernelspec": {
   "display_name": "Python 3",
   "language": "python",
   "name": "python3"
  },
  "language_info": {
   "codemirror_mode": {
    "name": "ipython",
    "version": 3
   },
   "file_extension": ".py",
   "mimetype": "text/x-python",
   "name": "python",
   "nbconvert_exporter": "python",
   "pygments_lexer": "ipython3",
   "version": "3.6.8"
  }
 },
 "nbformat": 4,
 "nbformat_minor": 2
}
