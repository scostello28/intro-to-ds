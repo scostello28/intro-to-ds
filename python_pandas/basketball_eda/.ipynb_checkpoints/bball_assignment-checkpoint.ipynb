{
 "cells": [
  {
   "cell_type": "code",
   "execution_count": null,
   "metadata": {},
   "outputs": [],
   "source": [
    "import pandas as pd\n",
    "import numpy as np\n",
    "\n",
    "import matplotlib.pyplot as plt\n",
    "plt.style.use('ggplot')\n",
    "import seaborn as sns\n",
    "from pandas.plotting import scatter_matrix\n",
    "%matplotlib inline"
   ]
  },
  {
   "cell_type": "code",
   "execution_count": null,
   "metadata": {},
   "outputs": [],
   "source": [
    "# Read in data\n",
    "df = pd.read_csv('player_data.csv')"
   ]
  },
  {
   "cell_type": "markdown",
   "metadata": {},
   "source": [
    "**Data Dicitonary**\n",
    "\n",
    "- Player - Player Name \n",
    "- G      - Games Played\n",
    "- GS     - Games Started\n",
    "- MP     - Minutes Played\n",
    "- FG     - Field Goals per 100 possessions\n",
    "- FGA    - Field Goal Attempts per 100 possessions\n",
    "- 2P     - 2 Pointers per 100 possessions\n",
    "- 2PA    - 2 Point Attempts per 100 possessions\n",
    "- 3P     - 3 Pointers per 100 possessions\n",
    "- 3PA    - 3 Point Attempts per 100 possessions\n",
    "- FT     - Free Throws per 100 possessions\n",
    "- FTA    - Free Throw Attempts per 100 possessions\n",
    "- TRB    - Total Rebounds per 100 possessions\n",
    "- AST    - Assists per 100 possessions\n",
    "- STL    - Steals per 100 possessions\n",
    "- BLK    - Blocks per 100 possessions\n",
    "- TOV    - Turn Overs per 100 possessions\n",
    "- PF     - Personal Fouls per 100 possessions\n",
    "- Team   - Team\n",
    "- Season - Season (Year)\n",
    "- Class  - Player Class {1: Freshmen, 2: Sophmore, 3: Junior, 4: Senior}\n",
    "- Pos    - Position\n",
    "- Height - Height (inches)"
   ]
  },
  {
   "cell_type": "markdown",
   "metadata": {},
   "source": [
    "**Basic Pandas**"
   ]
  },
  {
   "cell_type": "code",
   "execution_count": null,
   "metadata": {},
   "outputs": [],
   "source": [
    "df.columns"
   ]
  },
  {
   "cell_type": "code",
   "execution_count": null,
   "metadata": {
    "scrolled": true
   },
   "outputs": [],
   "source": [
    "df.head()"
   ]
  },
  {
   "cell_type": "code",
   "execution_count": null,
   "metadata": {},
   "outputs": [],
   "source": [
    "df.describe()"
   ]
  },
  {
   "cell_type": "code",
   "execution_count": null,
   "metadata": {},
   "outputs": [],
   "source": [
    "df.info()"
   ]
  },
  {
   "cell_type": "markdown",
   "metadata": {},
   "source": [
    "**Feature Engineering**\n",
    "1. Create FG_perc, 2P_perc, 3P_perc, FT_perc and Points Columns"
   ]
  },
  {
   "cell_type": "code",
   "execution_count": null,
   "metadata": {},
   "outputs": [],
   "source": []
  },
  {
   "cell_type": "code",
   "execution_count": null,
   "metadata": {},
   "outputs": [],
   "source": [
    "df[['FG_perc', '2P_perc', '3P_perc', 'FT_perc', 'Points']].head()"
   ]
  },
  {
   "cell_type": "markdown",
   "metadata": {},
   "source": [
    "**Query Questions**\n",
    "1. How many teams are there?\n",
    "2. Gonzaga Players by minutes played from 2018 Season\n",
    "3. Senior Center with most turn overs, per 100 possessions, before 2017.\n",
    "4. Team with most points, per 100 possessions, by under classmen.\n",
    "5. Player under 6 feet tall with most fouls--per 100 possessions.\n",
    "6. Guards from each season in top 1% for three-point shot percentage, per 100 possessions, from the 2018 season.\n",
    "7. How many rows have null values?\n",
    "8. Mean of Games played by players with null values.\n",
    "9. Mean of Games played by players without null values."
   ]
  },
  {
   "cell_type": "code",
   "execution_count": null,
   "metadata": {},
   "outputs": [],
   "source": [
    "# 1. How many teams are there?\n"
   ]
  },
  {
   "cell_type": "code",
   "execution_count": null,
   "metadata": {},
   "outputs": [],
   "source": [
    "# 2. Gonzaga Players by minutes played from 2018 Season\n"
   ]
  },
  {
   "cell_type": "code",
   "execution_count": null,
   "metadata": {},
   "outputs": [],
   "source": [
    "# 3. Senior Center with most turn overs, per 100 possessions, before 2017.\n"
   ]
  },
  {
   "cell_type": "code",
   "execution_count": null,
   "metadata": {},
   "outputs": [],
   "source": [
    "# 4. Team with most points, per 100 possessions, by under classmen since 2016.\n"
   ]
  },
  {
   "cell_type": "code",
   "execution_count": null,
   "metadata": {},
   "outputs": [],
   "source": [
    "# 5. 5 players under 6 feet tall with most fouls--per 100 possessions\n"
   ]
  },
  {
   "cell_type": "code",
   "execution_count": null,
   "metadata": {},
   "outputs": [],
   "source": [
    "# 6. Guards in top 1% for three-point shot percentage, per 100 possessions, from the 2018 season.\n"
   ]
  },
  {
   "cell_type": "code",
   "execution_count": null,
   "metadata": {},
   "outputs": [],
   "source": [
    "# 7. How many rows have null values?\n"
   ]
  },
  {
   "cell_type": "code",
   "execution_count": null,
   "metadata": {},
   "outputs": [],
   "source": [
    "# 8. Mean of Games played by players with null values\n"
   ]
  },
  {
   "cell_type": "code",
   "execution_count": null,
   "metadata": {},
   "outputs": [],
   "source": [
    "# 9. Mean of Games played by players without null values\n"
   ]
  },
  {
   "cell_type": "markdown",
   "metadata": {},
   "source": [
    "**Basic plotting**\n",
    "1. Create a DataFrame for 2018 Season with only 'MP', 'FG', '2P', '3P' and no null values\n",
    "2. Create histograms for MP, FG, 2P, 3P\n",
    "3. Create box plots for MP, FG, 2P, 3P\n",
    "4. Repeat 1 and 2 by Pos\n",
    "5. Scatter FG, 2P and 3P by MP\n",
    "\n",
    "Extra Credit - Create Scatter Matrix"
   ]
  },
  {
   "cell_type": "markdown",
   "metadata": {},
   "source": [
    "**1. Create a DataFrame for 2018 Season with only 'MP', 'FG', '2P', '3P' and no null values**"
   ]
  },
  {
   "cell_type": "code",
   "execution_count": null,
   "metadata": {},
   "outputs": [],
   "source": []
  },
  {
   "cell_type": "markdown",
   "metadata": {},
   "source": [
    "**2. Create histograms for MP, FG, 2P, 3P**"
   ]
  },
  {
   "cell_type": "code",
   "execution_count": null,
   "metadata": {},
   "outputs": [],
   "source": []
  },
  {
   "cell_type": "markdown",
   "metadata": {},
   "source": [
    "**3. Create box plots for MP, FG, 2P, 3P**"
   ]
  },
  {
   "cell_type": "code",
   "execution_count": null,
   "metadata": {},
   "outputs": [],
   "source": []
  },
  {
   "cell_type": "markdown",
   "metadata": {},
   "source": [
    "**4. Repeat 1 and 2 by Pos**"
   ]
  },
  {
   "cell_type": "code",
   "execution_count": null,
   "metadata": {},
   "outputs": [],
   "source": []
  },
  {
   "cell_type": "markdown",
   "metadata": {},
   "source": [
    "**5. Scatter FG, 2P and 3P by MP**"
   ]
  },
  {
   "cell_type": "code",
   "execution_count": null,
   "metadata": {},
   "outputs": [],
   "source": []
  },
  {
   "cell_type": "markdown",
   "metadata": {},
   "source": [
    "**Extra Credit - Create Scatter Matrix**"
   ]
  },
  {
   "cell_type": "code",
   "execution_count": null,
   "metadata": {},
   "outputs": [],
   "source": []
  },
  {
   "cell_type": "code",
   "execution_count": null,
   "metadata": {},
   "outputs": [],
   "source": []
  }
 ],
 "metadata": {
  "kernelspec": {
   "display_name": "Python 3",
   "language": "python",
   "name": "python3"
  },
  "language_info": {
   "codemirror_mode": {
    "name": "ipython",
    "version": 3
   },
   "file_extension": ".py",
   "mimetype": "text/x-python",
   "name": "python",
   "nbconvert_exporter": "python",
   "pygments_lexer": "ipython3",
   "version": "3.6.8"
  }
 },
 "nbformat": 4,
 "nbformat_minor": 2
}
