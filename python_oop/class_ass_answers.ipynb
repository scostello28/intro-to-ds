{
 "cells": [
  {
   "cell_type": "markdown",
   "metadata": {},
   "source": [
    "# Morning"
   ]
  },
  {
   "cell_type": "markdown",
   "metadata": {},
   "source": [
    "## Function to Class Conversions\n",
    "- Write a class called CentralTendency() using the following functions."
   ]
  },
  {
   "cell_type": "code",
   "execution_count": 2,
   "metadata": {},
   "outputs": [],
   "source": [
    "class CentralTendency():\n",
    "    \n",
    "    def __init__(self, num_lst):\n",
    "        \n",
    "        self.num_lst = num_lst\n",
    "        \n",
    "    def find_mean(self):\n",
    "        \n",
    "        py_mean = sum(self.num_lst) / len(self.num_lst)\n",
    "        print(py_mean)\n",
    "\n",
    "    def find_median(self):\n",
    "        \n",
    "        sort_lst = sorted(self.num_lst)\n",
    "        if len(sort_lst) % 2 == 0:\n",
    "            mid1 = sort_lst[:len(sort_lst)//2][-1]\n",
    "            mid2 = sort_lst[len(sort_lst)//2:][0]\n",
    "            median = (mid1 + mid2) / 2\n",
    "        else:\n",
    "            median = sort_lst[len(sort_lst)//2]\n",
    "            \n",
    "        print(median)\n",
    "\n",
    "    def find_mode(self):\n",
    "        \n",
    "        counts_dict = {}\n",
    "        for each in self.num_lst:\n",
    "            if each in counts_dict.keys():\n",
    "                counts_dict[each] += 1\n",
    "            else:\n",
    "                counts_dict[each] = 1\n",
    "\n",
    "        py_mode = max(counts_dict, key=counts_dict.get)\n",
    "        \n",
    "        print(py_mode)"
   ]
  },
  {
   "cell_type": "markdown",
   "metadata": {},
   "source": [
    "* Write a class called MeasuresOfSpread() using the following functions."
   ]
  },
  {
   "cell_type": "code",
   "execution_count": 3,
   "metadata": {},
   "outputs": [],
   "source": [
    "class MeasuresOfSpread():\n",
    "    \n",
    "    def __init__(self, data_lst, population):\n",
    "        self.data_lst = data_lst\n",
    "        self.population = population\n",
    "        \n",
    "    def find_variance(self, population=True):\n",
    "\n",
    "        mn = find_mean(self.data_lst)\n",
    "\n",
    "        result = 0\n",
    "        for num in self.data_lst:\n",
    "            result += (num - mn)**2\n",
    "    \n",
    "        if population:\n",
    "            v = result / len(self.data_lst)\n",
    "        else:\n",
    "            v = result / len(self.data_lst) - 1\n",
    "        \n",
    "        print(round(v,3))\n",
    "\n",
    "    def find_stand_dev(self):\n",
    "\n",
    "        py_std = find_variance(self.data_lst)**(1/2)\n",
    "        \n",
    "        print(round(py_std, 3))"
   ]
  },
  {
   "cell_type": "markdown",
   "metadata": {},
   "source": [
    "* Write a class called BernoulliDistribution() using the following functions."
   ]
  },
  {
   "cell_type": "code",
   "execution_count": 7,
   "metadata": {},
   "outputs": [],
   "source": [
    "class BernoulliDistribution():\n",
    "    \n",
    "    def __init__(self, k, p):\n",
    "        self.k = k\n",
    "        self.p = p\n",
    "\n",
    "    def bernoulli_pmf(self):\n",
    "        \n",
    "        if self.k == 1:\n",
    "            print(self.p)\n",
    "        else:\n",
    "            print(1 - self.p)\n",
    "\n",
    "    def bernoulli_var(self):\n",
    "\n",
    "        return self.p * (1 - self.p)"
   ]
  },
  {
   "cell_type": "markdown",
   "metadata": {},
   "source": [
    "* Write a class called BinomialDistribution() using the following functions.\n",
    "    "
   ]
  },
  {
   "cell_type": "code",
   "execution_count": 22,
   "metadata": {},
   "outputs": [],
   "source": [
    "class BinomialDistribution():\n",
    "    def __init__(self, n, k, p):\n",
    "        \n",
    "        self.n = n\n",
    "        self.k = k\n",
    "        self.p = p\n",
    "        \n",
    "    def fact(x):\n",
    "        \n",
    "        result = 1\n",
    "        for i in range(x, 0, -1):\n",
    "            result *= i\n",
    "        return result\n",
    "\n",
    "    def binomial_coeff(self):\n",
    "        \n",
    "        print(fact(self.n) / (fact(self.k)*(fact(self.n-self.k))))\n",
    "\n",
    "    def binomial_pmf(self):\n",
    "        \n",
    "        print(binomial_coeff(self.n, self.k) * self.p**self.k * (1-self.p)**(self.n-self.k))"
   ]
  },
  {
   "cell_type": "markdown",
   "metadata": {},
   "source": [
    "## Basic Class Challenge (from Learn Checkpoint)\n",
    "- Fill in the following methods in the class according to their docstrings. Do not change the name of the class."
   ]
  },
  {
   "cell_type": "code",
   "execution_count": 18,
   "metadata": {},
   "outputs": [],
   "source": [
    "class NumberFun():\n",
    "\n",
    "    def __init__(self, number):\n",
    "\n",
    "        self.number = number\n",
    "\n",
    "    def factorial(self):\n",
    "        num = self.number\n",
    "        fact = 1\n",
    "        while num > 0:\n",
    "            fact *= num\n",
    "            num -= 1\n",
    "        return fact\n",
    "\n",
    "    def divisors(self):\n",
    "        self.divisors = []\n",
    "        for num in range(2, self.number):\n",
    "            if self.number % num == 0:\n",
    "                self.divisors.append(num)\n",
    "        return self.divisors"
   ]
  },
  {
   "cell_type": "code",
   "execution_count": 19,
   "metadata": {},
   "outputs": [
    {
     "name": "stdout",
     "output_type": "stream",
     "text": [
      "Factorial: 3628800\n",
      "Divisors: [2, 5]\n"
     ]
    }
   ],
   "source": [
    "a = NumberFun(10)\n",
    "print(\"Factorial: {}\".format(a.factorial()))\n",
    "print(\"Divisors: {}\".format(a.divisors()))"
   ]
  },
  {
   "cell_type": "markdown",
   "metadata": {},
   "source": [
    "* Write a class called Pizza. This class should take a restaurant name as an argument, and should contain the following methods:\n",
    "\n",
    "    2. calc_area() that calculates the area of a circular pie.\n",
    "    3. best_price() that calculates the best price of a pizza as a function of area.\n",
    "    3. add_pie() that appends the size of the pie to a list, the cost of a pie to a list, and the area of a pie to a list."
   ]
  },
  {
   "cell_type": "code",
   "execution_count": 20,
   "metadata": {},
   "outputs": [],
   "source": [
    "class Pizza():\n",
    "\n",
    "    def __init__(self, restaurant):\n",
    "        self.name = restaurant\n",
    "        self.sizes = []\n",
    "        self.costs = []\n",
    "        self.areas = []\n",
    "\n",
    "    def add_pie(self, size, cost):\n",
    "        self.sizes.append(size)\n",
    "        self.costs.append(cost)\n",
    "        self.areas.append(self.calc_area(size))\n",
    "\n",
    "    def calc_area(self, size):\n",
    "        return 3.14 * (size/2)**2\n",
    "\n",
    "    def best_price(self):\n",
    "        cpis = [self.costs[i] / self.areas[i] for i in range(len(sizes))]\n",
    "        min_cpis = [True if i == min(cpis) else False for i in cpis]\n",
    "        \n",
    "        return [self.sizes[i] for i in range(len(self.sizes)) if min_cpis[i] == True]"
   ]
  },
  {
   "cell_type": "markdown",
   "metadata": {},
   "source": [
    "# Afternoon"
   ]
  },
  {
   "cell_type": "markdown",
   "metadata": {},
   "source": [
    "## Denver Pizza  Challenge\n",
    "Write a DenverPizza class that contains Pizza objects (from Pizza class above) and will return the best priced pie across mulitple restaurants."
   ]
  },
  {
   "cell_type": "code",
   "execution_count": null,
   "metadata": {},
   "outputs": [],
   "source": [
    "class DenverPizza():\n",
    "    def __init__(self):\n",
    "        pass\n",
    "    \n",
    "    def add_pizzaria(self):\n",
    "        pass\n",
    "    "
   ]
  },
  {
   "cell_type": "markdown",
   "metadata": {},
   "source": [
    "## Magic Methods\n",
    "- Fill in the following methods in the class according to their docstrings. Do not change the name of the class."
   ]
  },
  {
   "cell_type": "code",
   "execution_count": 21,
   "metadata": {},
   "outputs": [],
   "source": [
    "class LinearPolynomial():\n",
    "    \"\"\"\n",
    "    This class implements a linear polynomial. That is, it is\n",
    "    a polynomial of the form\n",
    "\n",
    "    mx + b\n",
    "\n",
    "    For this class, please implement functioanlity to create\n",
    "    a polynomial, craete a string representation for it, and\n",
    "    add two instances of two LinearPolynomial classes together.\n",
    "    \"\"\"\n",
    "    def __init__(self, m, b):\n",
    "        self.m = m\n",
    "        self.b = b\n",
    "\n",
    "    def __str__(self):\n",
    "        return \"{}x + {}\".format(self.m, self.b)\n",
    "\n",
    "    def __add__(self, other):\n",
    "        m = self.m + other.m\n",
    "        b = self.b + other.b\n",
    "        return LinearPolynomial(m, b)"
   ]
  },
  {
   "cell_type": "code",
   "execution_count": 23,
   "metadata": {},
   "outputs": [
    {
     "name": "stdout",
     "output_type": "stream",
     "text": [
      "Line 1 Equation: 3x + 8\n",
      "Line 2 Equation: 7x + 4\n",
      "Added: 10x + 12\n"
     ]
    }
   ],
   "source": [
    "line_1 = LinearPolynomial(3, 8)\n",
    "line_2 = LinearPolynomial(7, 4)\n",
    "print(\"Line 1 Equation: {}\".format(str(line_1)))\n",
    "print(\"Line 2 Equation: {}\".format(str(line_2)))\n",
    "print(\"Added: {}\".format(line_1 + line_2))"
   ]
  },
  {
   "cell_type": "code",
   "execution_count": null,
   "metadata": {},
   "outputs": [],
   "source": []
  }
 ],
 "metadata": {
  "kernelspec": {
   "display_name": "Python 3",
   "language": "python",
   "name": "python3"
  },
  "language_info": {
   "codemirror_mode": {
    "name": "ipython",
    "version": 3
   },
   "file_extension": ".py",
   "mimetype": "text/x-python",
   "name": "python",
   "nbconvert_exporter": "python",
   "pygments_lexer": "ipython3",
   "version": "3.6.8"
  }
 },
 "nbformat": 4,
 "nbformat_minor": 2
}
