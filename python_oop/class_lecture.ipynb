{
 "cells": [
  {
   "cell_type": "markdown",
   "metadata": {},
   "source": [
    "### Object Oriented Programming"
   ]
  },
  {
   "cell_type": "markdown",
   "metadata": {},
   "source": [
    "### Class Structure"
   ]
  },
  {
   "cell_type": "code",
   "execution_count": 1,
   "metadata": {},
   "outputs": [],
   "source": [
    "# Let's define a class\n",
    "# Notice: the class statement defines a class\n",
    "# Notice: CamelCase is used for class names\n",
    "\n",
    "class Animal():\n",
    "    pass"
   ]
  },
  {
   "cell_type": "code",
   "execution_count": 2,
   "metadata": {},
   "outputs": [],
   "source": [
    "class Animal():\n",
    "    def __init__(self, name):\n",
    "        self.name = name\n",
    "        \n",
    "    def talk(self):\n",
    "        if self.name == 'cat':\n",
    "            print('Meow!')\n",
    "        elif self.name == 'dog':\n",
    "            print('Woof!')\n",
    "        elif self.name == 'duck':\n",
    "            print('Quack!')"
   ]
  },
  {
   "cell_type": "markdown",
   "metadata": {},
   "source": [
    "### Class Instantiation"
   ]
  },
  {
   "cell_type": "code",
   "execution_count": 3,
   "metadata": {},
   "outputs": [],
   "source": [
    "# Each of these is an instance of our class Animal\n",
    "\n",
    "cat = Animal('cat')\n",
    "dog = Animal('dog')\n",
    "duck = Animal('duck')"
   ]
  },
  {
   "cell_type": "code",
   "execution_count": 4,
   "metadata": {},
   "outputs": [
    {
     "name": "stdout",
     "output_type": "stream",
     "text": [
      "Meow!\n",
      "Woof!\n",
      "Quack!\n"
     ]
    }
   ],
   "source": [
    "# Notice that I am calling a function within the class Animal on the instance of the class which I established.\n",
    "# If I type the variable name of the instance of my class, then .tab, I can see the attributes\n",
    "# and methods within the class. \n",
    "# .tab demo\n",
    "\n",
    "cat.talk()\n",
    "dog.talk()\n",
    "duck.talk()"
   ]
  },
  {
   "cell_type": "code",
   "execution_count": 33,
   "metadata": {},
   "outputs": [],
   "source": [
    "class OurClass():\n",
    "        \n",
    "    def __init__(self, student_name, class_location, size=0): # Initialize the variables we'll use in our class\n",
    "        self.name = student_name\n",
    "        self.location = class_location\n",
    "        self.size = size\n",
    "        self.questions_asked = []\n",
    "        if self.size >= 20: # Notice that we need to do this in the __init__ so that we can call self.at_capacity later\n",
    "            self.at_capacity = True\n",
    "        else:\n",
    "            self.at_capacity = False\n",
    "            \n",
    "    def add_question_asked(self, question):\n",
    "        self.questions_asked.append(question)\n",
    "\n",
    "    def add_class_members(self, num):\n",
    "        self.size += num\n",
    "        self.check_if_at_capacity()\n",
    "\n",
    "\n",
    "    def check_if_at_capacity(self):\n",
    "        if self.size >= 20:\n",
    "            print('Capacity Reached!!')\n",
    "            self.at_capacity = True\n",
    "        return self.at_capacity"
   ]
  },
  {
   "cell_type": "code",
   "execution_count": 50,
   "metadata": {},
   "outputs": [],
   "source": [
    "class OurClass():\n",
    "        \n",
    "    def __init__(self, student_name, class_location, size=0): # Initialize the variables we'll use in our class\n",
    "        self.name = student_name\n",
    "        self.location = class_location\n",
    "        self.size = size\n",
    "        self.questions_asked = []\n",
    "        self.at_capacity = False\n",
    "        \n",
    "        self.check_if_at_capacity()\n",
    "            \n",
    "    def add_question_asked(self, question):\n",
    "        self.questions_asked.append(question)\n",
    "\n",
    "    def add_class_members(self, num):\n",
    "        self.size += num\n",
    "        self.check_if_at_capacity()\n",
    "\n",
    "\n",
    "    def check_if_at_capacity(self):\n",
    "        if self.size >= 20:\n",
    "            print('Capacity Reached!!')\n",
    "            self.at_capacity = True\n",
    "        return self.at_capacity"
   ]
  },
  {
   "cell_type": "code",
   "execution_count": 51,
   "metadata": {},
   "outputs": [
    {
     "name": "stdout",
     "output_type": "stream",
     "text": [
      "Capacity Reached!!\n"
     ]
    }
   ],
   "source": [
    "# First we instantiate our class, passing it the variables that are contained in __init__\n",
    "our_class = OurClass('Intro to DS', 'Platte', 25)"
   ]
  },
  {
   "cell_type": "code",
   "execution_count": 46,
   "metadata": {},
   "outputs": [
    {
     "data": {
      "text/plain": [
       "25"
      ]
     },
     "execution_count": 46,
     "metadata": {},
     "output_type": "execute_result"
    }
   ],
   "source": [
    "our_class.size"
   ]
  },
  {
   "cell_type": "code",
   "execution_count": 47,
   "metadata": {},
   "outputs": [
    {
     "data": {
      "text/plain": [
       "True"
      ]
     },
     "execution_count": 47,
     "metadata": {},
     "output_type": "execute_result"
    }
   ],
   "source": [
    "our_class.at_capacity"
   ]
  },
  {
   "cell_type": "code",
   "execution_count": 36,
   "metadata": {},
   "outputs": [
    {
     "data": {
      "text/plain": [
       "'Platte'"
      ]
     },
     "execution_count": 36,
     "metadata": {},
     "output_type": "execute_result"
    }
   ],
   "source": [
    "our_class.location"
   ]
  },
  {
   "cell_type": "code",
   "execution_count": 37,
   "metadata": {},
   "outputs": [],
   "source": [
    "# What if we want to add 3 some students to our class? Now all I have to do is call that function on the instance\n",
    "# (Remember this particular instance is called our_class)\n",
    "our_class.add_class_members(3)\n"
   ]
  },
  {
   "cell_type": "code",
   "execution_count": 38,
   "metadata": {},
   "outputs": [
    {
     "data": {
      "text/plain": [
       "18"
      ]
     },
     "execution_count": 38,
     "metadata": {},
     "output_type": "execute_result"
    }
   ],
   "source": [
    "our_class.size"
   ]
  },
  {
   "cell_type": "code",
   "execution_count": 39,
   "metadata": {},
   "outputs": [
    {
     "name": "stdout",
     "output_type": "stream",
     "text": [
      "Capacity Reached!!\n"
     ]
    }
   ],
   "source": [
    "# Let's do the exact same thing, but in a different instance.\n",
    "our_class_again = OurClass('Intro to DS', 'Platte', 15)\n",
    "our_class_again.add_class_members(34)"
   ]
  },
  {
   "cell_type": "code",
   "execution_count": 40,
   "metadata": {},
   "outputs": [
    {
     "name": "stdout",
     "output_type": "stream",
     "text": [
      "<__main__.OurClass object at 0x11130ecc0>\n",
      "<__main__.OurClass object at 0x11130edd8>\n"
     ]
    }
   ],
   "source": [
    "# Notice the two instances are saved in a different location\n",
    "print(our_class)\n",
    "print(our_class_again)"
   ]
  },
  {
   "cell_type": "code",
   "execution_count": 41,
   "metadata": {},
   "outputs": [
    {
     "data": {
      "text/plain": [
       "18"
      ]
     },
     "execution_count": 41,
     "metadata": {},
     "output_type": "execute_result"
    }
   ],
   "source": [
    "our_class.size"
   ]
  },
  {
   "cell_type": "code",
   "execution_count": 42,
   "metadata": {},
   "outputs": [],
   "source": [
    "# And here, I can call a method on each instance of the class. \n",
    "x = our_class.check_if_at_capacity()\n"
   ]
  },
  {
   "cell_type": "code",
   "execution_count": 43,
   "metadata": {},
   "outputs": [
    {
     "data": {
      "text/plain": [
       "49"
      ]
     },
     "execution_count": 43,
     "metadata": {},
     "output_type": "execute_result"
    }
   ],
   "source": [
    "our_class_again.size"
   ]
  },
  {
   "cell_type": "code",
   "execution_count": 44,
   "metadata": {},
   "outputs": [
    {
     "name": "stdout",
     "output_type": "stream",
     "text": [
      "Capacity Reached!!\n",
      "True\n"
     ]
    }
   ],
   "source": [
    "print(our_class_again.check_if_at_capacity())"
   ]
  },
  {
   "cell_type": "markdown",
   "metadata": {},
   "source": [
    "## Pizza"
   ]
  },
  {
   "cell_type": "code",
   "execution_count": 52,
   "metadata": {},
   "outputs": [],
   "source": [
    "def pizza_func(sizes, costs):\n",
    "    areas = []\n",
    "    for size in sizes:\n",
    "        areas.append(3.14*(size/2)**2)\n",
    "    cpi = []\n",
    "    for i in range(len(areas)):\n",
    "        cpi.append(areas[i]/costs[i])\n",
    "    min_cpi = min(cpi)\n",
    "    min_ind = cpi.index(min_cpi)\n",
    "    return sizes[min_ind]\n",
    "\n",
    "\n",
    "class Pizza():\n",
    "\n",
    "    def __init__(self, restaurant):\n",
    "        self.name = restaurant\n",
    "        self.sizes = []\n",
    "        self.costs = []\n",
    "        self.areas = []\n",
    "\n",
    "    def add_pie(self, size, cost):\n",
    "        self.sizes.append(size)\n",
    "        self.costs.append(cost)\n",
    "        self.areas.append(self.calc_area(size))\n",
    "\n",
    "    def calc_area(self, size):\n",
    "        return 3.14 * (size/2)**2\n",
    "\n",
    "    def best_price(self):\n",
    "        cpis = [self.costs[i] * self.areas[i] for i in range(len(sizes)-1)]\n",
    "        min_cpi = min(cpis)\n",
    "        min_ind = cpis.index(min_cpi)\n",
    "        return self.sizes[min_ind]"
   ]
  },
  {
   "cell_type": "code",
   "execution_count": 53,
   "metadata": {},
   "outputs": [
    {
     "name": "stdout",
     "output_type": "stream",
     "text": [
      "Best Priced Pie: 8 inch\n"
     ]
    }
   ],
   "source": [
    "# Pizza\n",
    "sizes = [8, 12, 14]\n",
    "costs = [15, 20, 25]\n",
    "best_pie = pizza_func(sizes, costs)\n",
    "print('Best Priced Pie: {} inch'.format(best_pie))"
   ]
  },
  {
   "cell_type": "code",
   "execution_count": 55,
   "metadata": {},
   "outputs": [
    {
     "name": "stdout",
     "output_type": "stream",
     "text": [
      "Restaurant: Blue Pan\n",
      "Best Priced Pie: 8 inch\n"
     ]
    }
   ],
   "source": [
    "blue_pan = Pizza('Blue Pan')\n",
    "blue_pan.add_pie(8, 15)\n",
    "blue_pan.add_pie(12, 20)\n",
    "blue_pan.add_pie(14, 25)\n",
    "\n",
    "res_name = blue_pan.name\n",
    "best_pie = blue_pan.best_price()\n",
    "\n",
    "print('Restaurant: {}\\nBest Priced Pie: {} inch'.format(res_name, best_pie))"
   ]
  },
  {
   "cell_type": "code",
   "execution_count": 56,
   "metadata": {},
   "outputs": [
    {
     "name": "stdout",
     "output_type": "stream",
     "text": [
      "Restaurant: Denver Deep Dish\n",
      "Best Priced Pie: 12 inch\n"
     ]
    }
   ],
   "source": [
    "denver_deep_dish = Pizza('Denver Deep Dish')\n",
    "denver_deep_dish.add_pie(12, 17)\n",
    "denver_deep_dish.add_pie(14, 22)\n",
    "denver_deep_dish.add_pie(16, 27)\n",
    "\n",
    "print('Restaurant: {}\\nBest Priced Pie: {} inch'.format(denver_deep_dish.name, denver_deep_dish.best_price()))"
   ]
  },
  {
   "cell_type": "code",
   "execution_count": null,
   "metadata": {},
   "outputs": [],
   "source": []
  }
 ],
 "metadata": {
  "kernelspec": {
   "display_name": "Python 3",
   "language": "python",
   "name": "python3"
  },
  "language_info": {
   "codemirror_mode": {
    "name": "ipython",
    "version": 3
   },
   "file_extension": ".py",
   "mimetype": "text/x-python",
   "name": "python",
   "nbconvert_exporter": "python",
   "pygments_lexer": "ipython3",
   "version": "3.6.5"
  }
 },
 "nbformat": 4,
 "nbformat_minor": 2
}
