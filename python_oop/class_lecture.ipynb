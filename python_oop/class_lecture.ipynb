{
 "cells": [
  {
   "cell_type": "markdown",
   "metadata": {},
   "source": [
    "# Object Oriented Programming"
   ]
  },
  {
   "cell_type": "markdown",
   "metadata": {},
   "source": [
    "## Morning"
   ]
  },
  {
   "cell_type": "markdown",
   "metadata": {},
   "source": [
    "### Class Structure"
   ]
  },
  {
   "cell_type": "code",
   "execution_count": 1,
   "metadata": {},
   "outputs": [],
   "source": [
    "# Let's define a class\n",
    "# Notice: the class statement defines a class\n",
    "# Notice: CamelCase is used for class names\n",
    "\n",
    "class Animal():\n",
    "    pass"
   ]
  },
  {
   "cell_type": "code",
   "execution_count": 73,
   "metadata": {},
   "outputs": [],
   "source": [
    "class Animal():\n",
    "    def __init__(self, name):\n",
    "        self.name = name\n",
    "        \n",
    "    def talk(self):\n",
    "        if self.name == 'cat':\n",
    "            print('Meow!')\n",
    "        elif self.name == 'dog':\n",
    "            print('Woof!')\n",
    "        elif self.name == 'duck':\n",
    "            print('Quack!')\n",
    "        else:\n",
    "            print(\"AHHHHHH\")"
   ]
  },
  {
   "cell_type": "markdown",
   "metadata": {},
   "source": [
    "### Class Instantiation"
   ]
  },
  {
   "cell_type": "code",
   "execution_count": 74,
   "metadata": {},
   "outputs": [],
   "source": [
    "# Each of these is an instance of our class Animal\n",
    "\n",
    "cat = Animal('cat')\n",
    "dog = Animal('dog')\n",
    "duck = Animal('duck')\n",
    "pig = Animal('pig')"
   ]
  },
  {
   "cell_type": "code",
   "execution_count": 77,
   "metadata": {},
   "outputs": [
    {
     "name": "stdout",
     "output_type": "stream",
     "text": [
      "Meow!\n",
      "Woof!\n",
      "Quack!\n",
      "AHHHHHH\n"
     ]
    }
   ],
   "source": [
    "# Notice that I am calling a function within the class Animal on the instance of the class which I established.\n",
    "# If I type the variable name of the instance of my class, then .tab, I can see the attributes\n",
    "# and methods within the class. \n",
    "# .tab demo\n",
    "\n",
    "cat.talk()\n",
    "dog.talk()\n",
    "duck.talk()\n",
    "pig.talk()"
   ]
  },
  {
   "cell_type": "code",
   "execution_count": 78,
   "metadata": {},
   "outputs": [],
   "source": [
    "class OurClass():\n",
    "        \n",
    "    def __init__(self, class_name, class_location, size=0): # Initialize the variables we'll use in our class\n",
    "        self.name = class_name\n",
    "        self.location = class_location\n",
    "        self.size = size\n",
    "        self.questions_asked = []\n",
    "        if self.size >= 20: # Notice that we need to do this in the __init__ so that we can call self.at_capacity later\n",
    "            self.at_capacity = True\n",
    "        else:\n",
    "            self.at_capacity = False\n",
    "            \n",
    "    def add_question_asked(self, question):\n",
    "        self.questions_asked.append(question)\n",
    "\n",
    "    def add_class_members(self, num):\n",
    "        self.size += num\n",
    "        self.check_if_at_capacity()\n",
    "\n",
    "\n",
    "    def check_if_at_capacity(self):\n",
    "        if self.size >= 20:\n",
    "            print('Capacity Reached!!')\n",
    "            self.at_capacity = True\n",
    "        return self.at_capacity"
   ]
  },
  {
   "cell_type": "code",
   "execution_count": 110,
   "metadata": {},
   "outputs": [],
   "source": [
    "class OurClass():\n",
    "        \n",
    "    def __init__(self, class_name, class_location, size=0): # Initialize the variables we'll use in our class\n",
    "        self.name = class_name\n",
    "        self.location = class_location\n",
    "        self.size = size\n",
    "        self.questions_asked = []\n",
    "        self.at_capacity = False\n",
    "#         print(self.at_capacity)\n",
    "        self.check_if_at_capacity()\n",
    "#         print(self.at_capacity)\n",
    "            \n",
    "    def add_question_asked(self, question):\n",
    "        self.questions_asked.append(question)\n",
    "\n",
    "    def add_class_members(self, num):\n",
    "        self.size += num\n",
    "        self.check_if_at_capacity()\n",
    "\n",
    "\n",
    "    def check_if_at_capacity(self):\n",
    "        if self.size >= 20:\n",
    "            print('Capacity Reached!!')\n",
    "            self.at_capacity = True\n",
    "        return self.at_capacity"
   ]
  },
  {
   "cell_type": "code",
   "execution_count": 89,
   "metadata": {},
   "outputs": [
    {
     "name": "stdout",
     "output_type": "stream",
     "text": [
      "False\n",
      "Capacity Reached!!\n",
      "True\n"
     ]
    }
   ],
   "source": [
    "# First we instantiate our class, passing it the variables that are contained in __init__\n",
    "our_class = OurClass('Intro to DS', 'Platte', 25)"
   ]
  },
  {
   "cell_type": "code",
   "execution_count": null,
   "metadata": {},
   "outputs": [],
   "source": [
    "our_class."
   ]
  },
  {
   "cell_type": "code",
   "execution_count": 91,
   "metadata": {},
   "outputs": [
    {
     "data": {
      "text/plain": [
       "25"
      ]
     },
     "execution_count": 91,
     "metadata": {},
     "output_type": "execute_result"
    }
   ],
   "source": [
    "our_class.size"
   ]
  },
  {
   "cell_type": "code",
   "execution_count": 92,
   "metadata": {},
   "outputs": [
    {
     "data": {
      "text/plain": [
       "True"
      ]
     },
     "execution_count": 92,
     "metadata": {},
     "output_type": "execute_result"
    }
   ],
   "source": [
    "our_class.at_capacity"
   ]
  },
  {
   "cell_type": "code",
   "execution_count": 93,
   "metadata": {},
   "outputs": [
    {
     "data": {
      "text/plain": [
       "'Platte'"
      ]
     },
     "execution_count": 93,
     "metadata": {},
     "output_type": "execute_result"
    }
   ],
   "source": [
    "our_class.location"
   ]
  },
  {
   "cell_type": "code",
   "execution_count": 94,
   "metadata": {},
   "outputs": [
    {
     "name": "stdout",
     "output_type": "stream",
     "text": [
      "Capacity Reached!!\n"
     ]
    }
   ],
   "source": [
    "# What if we want to add 3 some students to our class? Now all I have to do is call that function on the instance\n",
    "# (Remember this particular instance is called our_class)\n",
    "our_class.add_class_members(3)\n"
   ]
  },
  {
   "cell_type": "code",
   "execution_count": 95,
   "metadata": {},
   "outputs": [
    {
     "data": {
      "text/plain": [
       "28"
      ]
     },
     "execution_count": 95,
     "metadata": {},
     "output_type": "execute_result"
    }
   ],
   "source": [
    "our_class.size"
   ]
  },
  {
   "cell_type": "code",
   "execution_count": 111,
   "metadata": {},
   "outputs": [],
   "source": [
    "# Let's do the exact same thing, but in a different instance.\n",
    "our_class_again = OurClass('Intro to DS', 'Platte', 15)\n",
    "our_class_again.add_class_members(3)"
   ]
  },
  {
   "cell_type": "code",
   "execution_count": 104,
   "metadata": {},
   "outputs": [
    {
     "name": "stdout",
     "output_type": "stream",
     "text": [
      "<class '__main__.OurClass'>\n",
      "<class '__main__.OurClass'>\n"
     ]
    }
   ],
   "source": [
    "# Notice the two instances are saved in a different location\n",
    "print(type(our_class))\n",
    "print(type(our_class_again))"
   ]
  },
  {
   "cell_type": "code",
   "execution_count": 102,
   "metadata": {},
   "outputs": [
    {
     "data": {
      "text/plain": [
       "18"
      ]
     },
     "execution_count": 102,
     "metadata": {},
     "output_type": "execute_result"
    }
   ],
   "source": [
    "our_class_again.size"
   ]
  },
  {
   "cell_type": "code",
   "execution_count": 107,
   "metadata": {},
   "outputs": [],
   "source": [
    "# And here, I can call a method on each instance of the class. \n",
    "x = our_class_again.check_if_at_capacity()\n",
    "x"
   ]
  },
  {
   "cell_type": "code",
   "execution_count": 108,
   "metadata": {},
   "outputs": [
    {
     "data": {
      "text/plain": [
       "18"
      ]
     },
     "execution_count": 108,
     "metadata": {},
     "output_type": "execute_result"
    }
   ],
   "source": [
    "our_class_again.size"
   ]
  },
  {
   "cell_type": "code",
   "execution_count": 112,
   "metadata": {},
   "outputs": [
    {
     "name": "stdout",
     "output_type": "stream",
     "text": [
      "False\n"
     ]
    }
   ],
   "source": [
    "print(our_class_again.check_if_at_capacity())"
   ]
  },
  {
   "cell_type": "markdown",
   "metadata": {},
   "source": [
    "## Pizza"
   ]
  },
  {
   "cell_type": "code",
   "execution_count": 122,
   "metadata": {},
   "outputs": [],
   "source": [
    "def pizza_func(sizes, costs):\n",
    "    areas = []\n",
    "    for size in sizes:\n",
    "        areas.append(3.14*(size/2)**2)\n",
    "    cpis = [costs[i]/areas[i] for i in range(len(areas))]\n",
    "    min_cpi = min(cpis)\n",
    "    min_cpis = [True if i == min(cpis) else False for i in cpis]\n",
    "    return [sizes[i] for i in range(len(sizes)) if min_cpis[i] == True]\n",
    "\n",
    "\n",
    "class Pizza():\n",
    "\n",
    "    def __init__(self, restaurant):\n",
    "        self.name = restaurant\n",
    "        self.sizes = []\n",
    "        self.costs = []\n",
    "        self.areas = []\n",
    "\n",
    "    def add_pie(self, size, cost):\n",
    "        self.sizes.append(size)\n",
    "        self.costs.append(cost)\n",
    "        self.areas.append(self.calc_area(size))\n",
    "\n",
    "    def calc_area(self, size):\n",
    "        return 3.14 * (size/2)**2\n",
    "\n",
    "    def best_price(self):\n",
    "        cpis = [self.costs[i] / self.areas[i] for i in range(len(sizes))]\n",
    "        min_cpis = [True if i == min(cpis) else False for i in cpis]\n",
    "        \n",
    "        return [self.sizes[i] for i in range(len(self.sizes)) if min_cpis[i] == True]"
   ]
  },
  {
   "cell_type": "code",
   "execution_count": 123,
   "metadata": {},
   "outputs": [
    {
     "name": "stdout",
     "output_type": "stream",
     "text": [
      "Best Priced Pie: [14] inch\n"
     ]
    }
   ],
   "source": [
    "# Pizza Function\n",
    "sizes = [8, 12, 14]\n",
    "costs = [15, 20, 25]\n",
    "best_pie = pizza_func(sizes, costs)\n",
    "print('Best Priced Pie: {} inch'.format(best_pie))"
   ]
  },
  {
   "cell_type": "code",
   "execution_count": 124,
   "metadata": {},
   "outputs": [
    {
     "name": "stdout",
     "output_type": "stream",
     "text": [
      "Restaurant: Kaos Pizza\n",
      "Best Priced Pie/s: [14] inch\n"
     ]
    }
   ],
   "source": [
    "kaos = Pizza('Kaos Pizza')\n",
    "kaos.add_pie(8, 15)\n",
    "kaos.add_pie(12, 20)\n",
    "kaos.add_pie(14, 25)\n",
    "\n",
    "res_name = kaos.name\n",
    "best_pie = kaos.best_price()\n",
    "# kaos.best_price()\n",
    "print('Restaurant: {}\\nBest Priced Pie/s: {} inch'.format(res_name, best_pie))"
   ]
  },
  {
   "cell_type": "code",
   "execution_count": 125,
   "metadata": {},
   "outputs": [
    {
     "data": {
      "text/plain": [
       "[8, 12, 14]"
      ]
     },
     "execution_count": 125,
     "metadata": {},
     "output_type": "execute_result"
    }
   ],
   "source": [
    "kaos.sizes"
   ]
  },
  {
   "cell_type": "code",
   "execution_count": 126,
   "metadata": {},
   "outputs": [
    {
     "name": "stdout",
     "output_type": "stream",
     "text": [
      "Restaurant: Denver Deep Dish\n",
      "Best Priced Pie: [16] inch\n"
     ]
    }
   ],
   "source": [
    "denver_deep_dish = Pizza('Denver Deep Dish')\n",
    "denver_deep_dish.add_pie(12, 17)\n",
    "denver_deep_dish.add_pie(14, 22)\n",
    "denver_deep_dish.add_pie(16, 27)\n",
    "\n",
    "print('Restaurant: {}\\nBest Priced Pie: {} inch'.format(denver_deep_dish.name, denver_deep_dish.best_price()))"
   ]
  },
  {
   "cell_type": "markdown",
   "metadata": {},
   "source": [
    "## Afternoon"
   ]
  },
  {
   "cell_type": "code",
   "execution_count": null,
   "metadata": {},
   "outputs": [],
   "source": []
  }
 ],
 "metadata": {
  "kernelspec": {
   "display_name": "Python 3",
   "language": "python",
   "name": "python3"
  },
  "language_info": {
   "codemirror_mode": {
    "name": "ipython",
    "version": 3
   },
   "file_extension": ".py",
   "mimetype": "text/x-python",
   "name": "python",
   "nbconvert_exporter": "python",
   "pygments_lexer": "ipython3",
   "version": "3.6.8"
  }
 },
 "nbformat": 4,
 "nbformat_minor": 2
}
