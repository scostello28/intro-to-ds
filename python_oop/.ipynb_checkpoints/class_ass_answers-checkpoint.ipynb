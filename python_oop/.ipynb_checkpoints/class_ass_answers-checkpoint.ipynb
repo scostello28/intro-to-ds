{
 "cells": [
  {
   "cell_type": "markdown",
   "metadata": {},
   "source": [
    "### Class Assignment Answers"
   ]
  },
  {
   "cell_type": "markdown",
   "metadata": {},
   "source": [
    "* Write a class called CentralTendency() using the following functions."
   ]
  },
  {
   "cell_type": "code",
   "execution_count": 2,
   "metadata": {},
   "outputs": [],
   "source": [
    "class CentralTendency():\n",
    "    \n",
    "    def __init__(self, num_lst):\n",
    "        \n",
    "        self.num_lst = num_lst\n",
    "        \n",
    "    def find_mean(self):\n",
    "        \n",
    "        py_mean = sum(self.num_lst) / len(self.num_lst)\n",
    "        print(py_mean)\n",
    "\n",
    "    def find_median(self):\n",
    "        \n",
    "        sort_lst = sorted(self.num_lst)\n",
    "        if len(sort_lst) % 2 == 0:\n",
    "            mid1 = sort_lst[:len(sort_lst)//2][-1]\n",
    "            mid2 = sort_lst[len(sort_lst)//2:][0]\n",
    "            median = (mid1 + mid2) / 2\n",
    "        else:\n",
    "            median = sort_lst[len(sort_lst)//2]\n",
    "            \n",
    "        print(median)\n",
    "\n",
    "    def find_mode(self):\n",
    "        \n",
    "        counts_dict = {}\n",
    "        for each in self.num_lst:\n",
    "            if each in counts_dict.keys():\n",
    "                counts_dict[each] += 1\n",
    "            else:\n",
    "                counts_dict[each] = 1\n",
    "\n",
    "        py_mode = max(counts_dict, key=counts_dict.get)\n",
    "        \n",
    "        print(py_mode)"
   ]
  },
  {
   "cell_type": "markdown",
   "metadata": {},
   "source": [
    "* Write a class called MeasuresOfSpread() using the following functions."
   ]
  },
  {
   "cell_type": "code",
   "execution_count": 3,
   "metadata": {},
   "outputs": [],
   "source": [
    "class MeasuresOfSpread():\n",
    "    \n",
    "    def __init__(self, data_lst, population):\n",
    "        self.data_lst = data_lst\n",
    "        self.population = population\n",
    "        \n",
    "    def find_variance(self, population=True):\n",
    "\n",
    "        mn = find_mean(self.data_lst)\n",
    "\n",
    "        result = 0\n",
    "        for num in self.data_lst:\n",
    "            result += (num - mn)**2\n",
    "    \n",
    "        if population:\n",
    "            v = result / len(self.data_lst)\n",
    "        else:\n",
    "            v = result / len(self.data_lst) - 1\n",
    "        \n",
    "        print(round(v,3))\n",
    "\n",
    "    def find_stand_dev(self):\n",
    "\n",
    "        py_std = find_variance(self.data_lst)**(1/2)\n",
    "        \n",
    "        print(round(py_std, 3))"
   ]
  },
  {
   "cell_type": "markdown",
   "metadata": {},
   "source": [
    "* Write a class called BernoulliDistribution() using the following functions."
   ]
  },
  {
   "cell_type": "code",
   "execution_count": 7,
   "metadata": {},
   "outputs": [],
   "source": [
    "class BernoulliDistribution():\n",
    "    \n",
    "    def __init__(self, k, p):\n",
    "        self.k = k\n",
    "        self.p = p\n",
    "\n",
    "    def bernoulli_pmf(self):\n",
    "        \n",
    "        if self.k == 1:\n",
    "            print(self.p)\n",
    "        else:\n",
    "            print(1 - self.p)\n",
    "\n",
    "    def bernoulli_var(self):\n",
    "\n",
    "        return self.p * (1 - self.p)"
   ]
  },
  {
   "cell_type": "markdown",
   "metadata": {},
   "source": [
    "* Write a class called BinomialDistribution() using the following functions.\n",
    "    "
   ]
  },
  {
   "cell_type": "code",
   "execution_count": 22,
   "metadata": {},
   "outputs": [],
   "source": [
    "class BinomialDistribution():\n",
    "    def __init__(self, n, k, p):\n",
    "        \n",
    "        self.n = n\n",
    "        self.k = k\n",
    "        self.p = p\n",
    "        \n",
    "    def fact(x):\n",
    "        \n",
    "        result = 1\n",
    "        for i in range(x, 0, -1):\n",
    "            result *= i\n",
    "        return result\n",
    "\n",
    "    def binomial_coeff(self):\n",
    "        \n",
    "        print(fact(self.n) / (fact(self.k)*(fact(self.n-self.k))))\n",
    "\n",
    "    def binomial_pmf(self):\n",
    "        \n",
    "        print(binomial_coeff(self.n, self.k) * self.p**self.k * (1-self.p)**(self.n-self.k))"
   ]
  },
  {
   "cell_type": "markdown",
   "metadata": {},
   "source": [
    "* Write a class called Pizza. This class should take a restaurant name as an argument, and should contain the following methods:\n",
    "\n",
    "    2. calc_area() that calculates the area of a circular pie.\n",
    "    3. best_price() that calculates the best price of a pizza as a function of area.\n",
    "    3. add_pie() that appends the size of the pie to a list, the cost of a pie to a list, and the area of a pie to a list."
   ]
  },
  {
   "cell_type": "code",
   "execution_count": null,
   "metadata": {},
   "outputs": [],
   "source": [
    "class Pizza():\n",
    "\n",
    "    def __init__(self, restaurant):\n",
    "        self.name = restaurant\n",
    "        self.sizes = []\n",
    "        self.costs = []\n",
    "        self.areas = []\n",
    "\n",
    "    def add_pie(self, size, cost):\n",
    "        self.sizes.append(size)\n",
    "        self.costs.append(cost)\n",
    "        self.areas.append(self.calc_area(size))\n",
    "\n",
    "    def calc_area(self, size):\n",
    "        return 3.14 * (size/2)**2\n",
    "\n",
    "    def best_price(self):\n",
    "        cpis = [self.costs[i] * self.areas[i] for i in range(len(sizes)-1)]\n",
    "        min_cpi = min(cpis)\n",
    "        min_ind = cpis.index(min_cpi)\n",
    "        return self.sizes[min_ind]"
   ]
  },
  {
   "cell_type": "code",
   "execution_count": null,
   "metadata": {},
   "outputs": [],
   "source": []
  }
 ],
 "metadata": {
  "kernelspec": {
   "display_name": "Python 3",
   "language": "python",
   "name": "python3"
  },
  "language_info": {
   "codemirror_mode": {
    "name": "ipython",
    "version": 3
   },
   "file_extension": ".py",
   "mimetype": "text/x-python",
   "name": "python",
   "nbconvert_exporter": "python",
   "pygments_lexer": "ipython3",
   "version": "3.6.8"
  }
 },
 "nbformat": 4,
 "nbformat_minor": 2
}
