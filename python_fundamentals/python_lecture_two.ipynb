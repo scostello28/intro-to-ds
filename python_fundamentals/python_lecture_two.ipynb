{
 "cells": [
  {
   "cell_type": "markdown",
   "metadata": {},
   "source": [
    "### Strings - Quotation Marks"
   ]
  },
  {
   "cell_type": "code",
   "execution_count": 5,
   "metadata": {},
   "outputs": [
    {
     "name": "stdout",
     "output_type": "stream",
     "text": [
      "<class 'str'>\n"
     ]
    }
   ],
   "source": [
    "# Quotation marks must be matching. Both of the following work.\n",
    "good_string = \"Hello, how are you?\"\n",
    "another_good_string = 'Hello, how are you?'\n",
    "print(type(good_string))"
   ]
  },
  {
   "cell_type": "code",
   "execution_count": 4,
   "metadata": {},
   "outputs": [
    {
     "name": "stdout",
     "output_type": "stream",
     "text": [
      "Hello'you\n"
     ]
    }
   ],
   "source": [
    "print(\"Hello\\'you\")"
   ]
  },
  {
   "cell_type": "code",
   "execution_count": 7,
   "metadata": {},
   "outputs": [
    {
     "ename": "SyntaxError",
     "evalue": "invalid syntax (<ipython-input-7-4ee1c4ff1f7c>, line 2)",
     "output_type": "error",
     "traceback": [
      "\u001b[0;36m  File \u001b[0;32m\"<ipython-input-7-4ee1c4ff1f7c>\"\u001b[0;36m, line \u001b[0;32m2\u001b[0m\n\u001b[0;31m    bad_string = 'Don't do that'\u001b[0m\n\u001b[0m                      ^\u001b[0m\n\u001b[0;31mSyntaxError\u001b[0m\u001b[0;31m:\u001b[0m invalid syntax\n"
     ]
    }
   ],
   "source": [
    "# These strings will not work\n",
    "bad_string = 'Don't do that'"
   ]
  },
  {
   "cell_type": "code",
   "execution_count": 8,
   "metadata": {},
   "outputs": [
    {
     "ename": "SyntaxError",
     "evalue": "EOL while scanning string literal (<ipython-input-8-1238ac41306c>, line 1)",
     "output_type": "error",
     "traceback": [
      "\u001b[0;36m  File \u001b[0;32m\"<ipython-input-8-1238ac41306c>\"\u001b[0;36m, line \u001b[0;32m1\u001b[0m\n\u001b[0;31m    another_bad_string = \"Don't do that'\u001b[0m\n\u001b[0m                                         ^\u001b[0m\n\u001b[0;31mSyntaxError\u001b[0m\u001b[0;31m:\u001b[0m EOL while scanning string literal\n"
     ]
    }
   ],
   "source": [
    "another_bad_string = \"Don't do that' "
   ]
  },
  {
   "cell_type": "code",
   "execution_count": 6,
   "metadata": {},
   "outputs": [],
   "source": [
    "# Notice you enclose the whole sentence in doubles if there is\n",
    "# a single within the sentence. \n",
    "solution_to_bad_string = \"Don't do that.\""
   ]
  },
  {
   "cell_type": "code",
   "execution_count": 11,
   "metadata": {},
   "outputs": [
    {
     "name": "stdout",
     "output_type": "stream",
     "text": [
      "She said, \"Don't do that!\"\n"
     ]
    }
   ],
   "source": [
    "\"\"\"If for some reason you need both, escape with backslash\n",
    "'She said, \"Don't do that!\"'\"\"\"\n",
    "my_escape_string = 'She said, \"Don\\'t do that!\"'\n",
    "print(my_escape_string)"
   ]
  },
  {
   "cell_type": "code",
   "execution_count": 12,
   "metadata": {},
   "outputs": [
    {
     "name": "stdout",
     "output_type": "stream",
     "text": [
      "This is a\n",
      "string that spans\n",
      "multiple lines.\n"
     ]
    }
   ],
   "source": [
    "# Multiple line breaks\n",
    "my_super_long_string = '''This is a\n",
    "string that spans\n",
    "multiple lines.'''\n",
    "print(my_super_long_string)"
   ]
  },
  {
   "cell_type": "code",
   "execution_count": 17,
   "metadata": {},
   "outputs": [
    {
     "name": "stdout",
     "output_type": "stream",
     "text": [
      "This is a\n",
      "string that spans\n",
      "multiple lines.\n"
     ]
    }
   ],
   "source": [
    "# Another way for multiple line breaks\n",
    "my_long_string = ('This is a\\n'\n",
    "'string that spans\\n'\n",
    "'multiple lines.')\n",
    "print(my_long_string)"
   ]
  },
  {
   "cell_type": "markdown",
   "metadata": {},
   "source": [
    "### String Type"
   ]
  },
  {
   "cell_type": "code",
   "execution_count": 21,
   "metadata": {},
   "outputs": [
    {
     "data": {
      "text/plain": [
       "str"
      ]
     },
     "execution_count": 21,
     "metadata": {},
     "output_type": "execute_result"
    }
   ],
   "source": [
    "# As with numeric, can assign strings to variables\n",
    "# and can check the type\n",
    "my_string = 'Hello World'\n",
    "type(my_string)"
   ]
  },
  {
   "cell_type": "markdown",
   "metadata": {},
   "source": [
    "### String Operators + and *"
   ]
  },
  {
   "cell_type": "code",
   "execution_count": 14,
   "metadata": {},
   "outputs": [
    {
     "name": "stdout",
     "output_type": "stream",
     "text": [
      "Hello, my name is Erin\n"
     ]
    }
   ],
   "source": [
    "# Use + to add two strings together\n",
    "one = 'Hello, my name is '\n",
    "two = 'Erin'\n",
    "\n",
    "my_name = one + two\n",
    "print(my_name)"
   ]
  },
  {
   "cell_type": "code",
   "execution_count": 12,
   "metadata": {},
   "outputs": [
    {
     "data": {
      "text/plain": [
       "'I will use descriptive variable names. I will use descriptive variable names. I will use descriptive variable names. '"
      ]
     },
     "execution_count": 12,
     "metadata": {},
     "output_type": "execute_result"
    }
   ],
   "source": [
    "# Use * to repeat a string a number of times\n",
    "# Notice that I told Python to add space between the strings\n",
    "repeat_this = 'I will use descriptive variable names. ' \n",
    "repeat_this * 3"
   ]
  },
  {
   "cell_type": "code",
   "execution_count": 7,
   "metadata": {},
   "outputs": [
    {
     "data": {
      "text/plain": [
       "'i will use descriptive variable names. '"
      ]
     },
     "execution_count": 7,
     "metadata": {},
     "output_type": "execute_result"
    }
   ],
   "source": [
    "repeat_this.lower()"
   ]
  },
  {
   "cell_type": "markdown",
   "metadata": {},
   "source": [
    "### String Methods"
   ]
  },
  {
   "cell_type": "code",
   "execution_count": 29,
   "metadata": {},
   "outputs": [
    {
     "data": {
      "text/plain": [
       "'Repeating string Repeating string Repeating string '"
      ]
     },
     "execution_count": 29,
     "metadata": {},
     "output_type": "execute_result"
    }
   ],
   "source": [
    "# Notice the space at the end when the string prints\n",
    "'Repeating string ' * 3"
   ]
  },
  {
   "cell_type": "code",
   "execution_count": 16,
   "metadata": {},
   "outputs": [
    {
     "name": "stdout",
     "output_type": "stream",
     "text": [
      "Repeating string Repeating string Repeating string\n"
     ]
    }
   ],
   "source": [
    "# Let's use a method to get rid of that space\n",
    "# Use dot notation to call a method\n",
    "print('Repeating string Repeating string Repeating string '.strip())"
   ]
  },
  {
   "cell_type": "code",
   "execution_count": 6,
   "metadata": {},
   "outputs": [
    {
     "data": {
      "text/plain": [
       "'Repeating string Repeating string Repeating string'"
      ]
     },
     "execution_count": 6,
     "metadata": {},
     "output_type": "execute_result"
    }
   ],
   "source": [
    "# Another example\n",
    "# Notice it removed white space from both start and end\n",
    "' Repeating string Repeating string Repeating string      '.strip()"
   ]
  },
  {
   "cell_type": "code",
   "execution_count": 8,
   "metadata": {},
   "outputs": [
    {
     "name": "stdout",
     "output_type": "stream",
     "text": [
      "This is my string to play around with.\n",
      "THIS IS MY STRING TO PLAY AROUND WITH.\n",
      "this is my string to play around with.\n",
      "this IS my flING to PLAY around WITH.\n",
      "['this', 'IS', 'my', 'STRING', 'to', 'PLAY', 'around', 'WITH.']\n"
     ]
    }
   ],
   "source": [
    "my_str_variable = 'this IS my STRING to PLAY around WITH.'\n",
    "# .capitalize()\n",
    "cap_str = my_str_variable.capitalize()\n",
    "# .upper()\n",
    "upp_str = my_str_variable.upper()\n",
    "# .lower()\n",
    "low_str = my_str_variable.lower()\n",
    "# .replace()\n",
    "new_str = my_str_variable.replace('STR', 'fl')\n",
    "# .split()\n",
    "split_str = my_str_variable.split(\" \")\n",
    "\n",
    "print(cap_str)\n",
    "print(upp_str)\n",
    "print(low_str)\n",
    "print(new_str)\n",
    "print(split_str)"
   ]
  },
  {
   "cell_type": "code",
   "execution_count": 36,
   "metadata": {},
   "outputs": [
    {
     "data": {
      "text/plain": [
       "'this IS my STRING to PLAY around WITH.'"
      ]
     },
     "execution_count": 36,
     "metadata": {},
     "output_type": "execute_result"
    }
   ],
   "source": [
    "# Want to know all the methods available for strings?\n",
    "# type your string then dot-tab\n",
    "my_str_variable"
   ]
  },
  {
   "cell_type": "code",
   "execution_count": 20,
   "metadata": {},
   "outputs": [
    {
     "name": "stdout",
     "output_type": "stream",
     "text": [
      "Input a string: hello my nam eis sean\n",
      "['hello', 'my', 'nam', 'eis', 'sean']\n"
     ]
    }
   ],
   "source": [
    "# s = input(\"Input a string: \")\n",
    "print(input(\"Input a string: \").lower().split())"
   ]
  },
  {
   "cell_type": "markdown",
   "metadata": {},
   "source": [
    "### String Indexing"
   ]
  },
  {
   "cell_type": "code",
   "execution_count": 21,
   "metadata": {},
   "outputs": [
    {
     "ename": "IndexError",
     "evalue": "string index out of range",
     "output_type": "error",
     "traceback": [
      "\u001b[0;31m---------------------------------------------------------------------------\u001b[0m",
      "\u001b[0;31mIndexError\u001b[0m                                Traceback (most recent call last)",
      "\u001b[0;32m<ipython-input-21-bfdd44c12072>\u001b[0m in \u001b[0;36m<module>\u001b[0;34m()\u001b[0m\n\u001b[1;32m      1\u001b[0m \u001b[0mmy_str_variable\u001b[0m \u001b[0;34m=\u001b[0m \u001b[0;34m'Test String'\u001b[0m\u001b[0;34m\u001b[0m\u001b[0;34m\u001b[0m\u001b[0m\n\u001b[0;32m----> 2\u001b[0;31m \u001b[0mmy_str_variable\u001b[0m\u001b[0;34m[\u001b[0m\u001b[0;34m-\u001b[0m\u001b[0;36m20\u001b[0m\u001b[0;34m]\u001b[0m\u001b[0;34m\u001b[0m\u001b[0;34m\u001b[0m\u001b[0m\n\u001b[0m",
      "\u001b[0;31mIndexError\u001b[0m: string index out of range"
     ]
    }
   ],
   "source": [
    "my_str_variable = 'Test String'\n",
    "my_str_variable[-20]"
   ]
  },
  {
   "cell_type": "code",
   "execution_count": 22,
   "metadata": {},
   "outputs": [
    {
     "name": "stdout",
     "output_type": "stream",
     "text": [
      "e\n",
      "S\n",
      "g\n",
      "i\n"
     ]
    }
   ],
   "source": [
    "# Grab a specific character\n",
    "my_str_variable = 'Test String'\n",
    "\n",
    "second_char = my_str_variable[1]\n",
    "sixth_char = my_str_variable[5]\n",
    "last_char = my_str_variable[-1]\n",
    "third_from_last_char = my_str_variable[-3]\n",
    "\n",
    "# Notice the zero indexing\n",
    "print(second_char)\n",
    "print(sixth_char)\n",
    "print(last_char)\n",
    "print(third_from_last_char)"
   ]
  },
  {
   "cell_type": "code",
   "execution_count": 44,
   "metadata": {},
   "outputs": [
    {
     "name": "stdout",
     "output_type": "stream",
     "text": [
      "es\n",
      "Stri\n",
      "Strin\n",
      "est String\n",
      "Test Strin\n"
     ]
    }
   ],
   "source": [
    "# Grab characters in some subset (range)\n",
    "my_str_variable = 'Test String'\n",
    "\n",
    "# This is called 'slicing'\n",
    "subset1 = my_str_variable[1:3]\n",
    "subset2 = my_str_variable[5:9]\n",
    "subset3 = my_str_variable[-6:-1]\n",
    "subset4 = my_str_variable[1:]\n",
    "subset5 = my_str_variable[:-1]\n",
    "\n",
    "# Start at index, print everything up to end index\n",
    "# Inclusive on left, exclusive on right\n",
    "print(subset1)\n",
    "print(subset2)\n",
    "print(subset3)\n",
    "print(subset4)\n",
    "print(subset5)"
   ]
  },
  {
   "cell_type": "code",
   "execution_count": 25,
   "metadata": {},
   "outputs": [
    {
     "name": "stdout",
     "output_type": "stream",
     "text": [
      "Ts tig\n",
      "sSi\n"
     ]
    }
   ],
   "source": [
    "# Grab characters in steps\n",
    "my_str_variable = 'Test String'\n",
    "\n",
    "every_second = my_str_variable[::2]\n",
    "every_third_between210 = my_str_variable[2:10:3]\n",
    "\n",
    "print(every_second)\n",
    "print(every_third_between210)"
   ]
  },
  {
   "cell_type": "markdown",
   "metadata": {},
   "source": [
    "### String Looping"
   ]
  },
  {
   "cell_type": "code",
   "execution_count": 28,
   "metadata": {},
   "outputs": [
    {
     "data": {
      "text/plain": [
       "6"
      ]
     },
     "execution_count": 28,
     "metadata": {},
     "output_type": "execute_result"
    }
   ],
   "source": [
    "string_to_loop = 'Denver'\n",
    "len(string_to_loop)"
   ]
  },
  {
   "cell_type": "code",
   "execution_count": 27,
   "metadata": {},
   "outputs": [
    {
     "name": "stdout",
     "output_type": "stream",
     "text": [
      "D\n",
      "e\n",
      "n\n",
      "v\n",
      "e\n",
      "r\n"
     ]
    }
   ],
   "source": [
    "string_to_loop = 'Denver'\n",
    "i = 0\n",
    "while i <= len(string_to_loop)-1:\n",
    "    print(string_to_loop[i])\n",
    "    i += 1"
   ]
  },
  {
   "cell_type": "code",
   "execution_count": 29,
   "metadata": {},
   "outputs": [
    {
     "name": "stdout",
     "output_type": "stream",
     "text": [
      "38\n"
     ]
    }
   ],
   "source": [
    "string_to_loop = 'Denver is better than Colorado Springs'\n",
    "\n",
    "# find out the length of your string (the number of characters)\n",
    "length_of_str = len(string_to_loop)\n",
    "print(length_of_str)"
   ]
  },
  {
   "cell_type": "code",
   "execution_count": 50,
   "metadata": {},
   "outputs": [
    {
     "name": "stdout",
     "output_type": "stream",
     "text": [
      "W\n",
      "h\n",
      "a\n",
      "t\n",
      "'\n",
      "s\n",
      " \n",
      "U\n",
      "p\n",
      "?\n"
     ]
    }
   ],
   "source": [
    "# Loop through string with while loop\n",
    "\n",
    "# define your variables\n",
    "string_to_loop = \"What's Up?\"\n",
    "length_of_str = len(string_to_loop)\n",
    "idx = 0\n",
    "\n",
    "# loop until condition is met\n",
    "while idx < length_of_str:\n",
    "    print(string_to_loop[idx])\n",
    "    idx += 1"
   ]
  },
  {
   "cell_type": "code",
   "execution_count": 37,
   "metadata": {},
   "outputs": [
    {
     "data": {
      "text/plain": [
       "[0, 1, 2, 3, 4]"
      ]
     },
     "execution_count": 37,
     "metadata": {},
     "output_type": "execute_result"
    }
   ],
   "source": [
    "list(range(5))"
   ]
  },
  {
   "cell_type": "code",
   "execution_count": 35,
   "metadata": {},
   "outputs": [
    {
     "name": "stdout",
     "output_type": "stream",
     "text": [
      "W\n",
      "h\n",
      "a\n",
      "t\n",
      "'\n",
      "s\n",
      " \n",
      "U\n",
      "p\n",
      "?\n"
     ]
    }
   ],
   "source": [
    "# Loop through string with for loop\n",
    "\n",
    "# define variables\n",
    "string_to_loop = \"What's Up?\"\n",
    "# length_of_str = len(string_to_loop)\n",
    "\n",
    "# loop until end of string\n",
    "for index in range(len(string_to_loop)):\n",
    "#     print(index)\n",
    "    print(string_to_loop[index])\n",
    "    \n",
    "# Notice the range() constructor: this tells the for\n",
    "# loop how long to continue. Thus our for loop will\n",
    "# continue for the length of the string"
   ]
  },
  {
   "cell_type": "code",
   "execution_count": 39,
   "metadata": {},
   "outputs": [
    {
     "name": "stdout",
     "output_type": "stream",
     "text": [
      "W\n",
      "h\n",
      "a\n",
      "t\n",
      "'\n",
      "s\n",
      " \n",
      "U\n",
      "p\n",
      "?\n"
     ]
    }
   ],
   "source": [
    "# The following for loop will do the same as above,\n",
    "# but it's considered cleaner code\n",
    "\n",
    "string_to_loop = \"What's Up?\"\n",
    "\n",
    "for ch in string_to_loop:\n",
    "    print(ch)"
   ]
  },
  {
   "cell_type": "markdown",
   "metadata": {},
   "source": [
    "### Zen of Python"
   ]
  },
  {
   "cell_type": "code",
   "execution_count": 54,
   "metadata": {},
   "outputs": [
    {
     "name": "stdout",
     "output_type": "stream",
     "text": [
      "The Zen of Python, by Tim Peters\n",
      "\n",
      "Beautiful is better than ugly.\n",
      "Explicit is better than implicit.\n",
      "Simple is better than complex.\n",
      "Complex is better than complicated.\n",
      "Flat is better than nested.\n",
      "Sparse is better than dense.\n",
      "Readability counts.\n",
      "Special cases aren't special enough to break the rules.\n",
      "Although practicality beats purity.\n",
      "Errors should never pass silently.\n",
      "Unless explicitly silenced.\n",
      "In the face of ambiguity, refuse the temptation to guess.\n",
      "There should be one-- and preferably only one --obvious way to do it.\n",
      "Although that way may not be obvious at first unless you're Dutch.\n",
      "Now is better than never.\n",
      "Although never is often better than *right* now.\n",
      "If the implementation is hard to explain, it's a bad idea.\n",
      "If the implementation is easy to explain, it may be a good idea.\n",
      "Namespaces are one honking great idea -- let's do more of those!\n"
     ]
    }
   ],
   "source": [
    "# The Zen of Python\n",
    "import this"
   ]
  },
  {
   "cell_type": "markdown",
   "metadata": {},
   "source": [
    "### String Formatting"
   ]
  },
  {
   "cell_type": "code",
   "execution_count": 45,
   "metadata": {},
   "outputs": [
    {
     "name": "stdout",
     "output_type": "stream",
     "text": [
      "Hello, my name is Sean and this is Kevin.\n"
     ]
    }
   ],
   "source": [
    "my_name = 'Sean'\n",
    "other_name = \"Kevin\"\n",
    "print('Hello, my name is {} and this is {}.'.format(my_name, other_name))"
   ]
  },
  {
   "cell_type": "code",
   "execution_count": 46,
   "metadata": {},
   "outputs": [
    {
     "name": "stdout",
     "output_type": "stream",
     "text": [
      "Hello, my name is Erin.\n"
     ]
    }
   ],
   "source": [
    "# Now you can just update one variable without\n",
    "# having to retype the entire sentence \n",
    "my_name = 'Erin'\n",
    "\n",
    "print('Hello, my name is {}.'.format(my_name))\n",
    "\n",
    "# .format() told Python to format the string\n",
    "# the {} are the location to format."
   ]
  },
  {
   "cell_type": "code",
   "execution_count": 47,
   "metadata": {},
   "outputs": [
    {
     "name": "stdout",
     "output_type": "stream",
     "text": [
      "Sean is cooler than Erin.\n"
     ]
    }
   ],
   "source": [
    "# Multiple values to insert?\n",
    "name_one = 'Sean'\n",
    "name_two = 'Erin'\n",
    "\n",
    "print('{1} is cooler than {0}.'.format(name_two, name_one))"
   ]
  },
  {
   "cell_type": "code",
   "execution_count": 4,
   "metadata": {},
   "outputs": [
    {
     "name": "stdout",
     "output_type": "stream",
     "text": [
      "Erin is cooler than Sean.\n"
     ]
    }
   ],
   "source": [
    "# If you don't tell .format() the order, it will\n",
    "# assume the order.\n",
    "print('{} is cooler than {}.'.format(name_two, name_one))"
   ]
  },
  {
   "cell_type": "code",
   "execution_count": 48,
   "metadata": {},
   "outputs": [
    {
     "name": "stdout",
     "output_type": "stream",
     "text": [
      "To be precise, that's 2.0000 times.\n"
     ]
    }
   ],
   "source": [
    "# .format() can also accept numbers\n",
    "# numbers can be formatted\n",
    "\n",
    "\n",
    "print(\"To be precise, that's {:.4f} times.\".format(2))\n",
    "\n",
    "\n",
    "# Here, the {:.1f} told Python that you would pass\n",
    "# it a number which you wanted to be a float\n",
    "# with only one decimal place."
   ]
  },
  {
   "cell_type": "code",
   "execution_count": 20,
   "metadata": {},
   "outputs": [
    {
     "data": {
      "text/plain": [
       "['hello', 'this', 'is', 'a', 'test']"
      ]
     },
     "execution_count": 20,
     "metadata": {},
     "output_type": "execute_result"
    }
   ],
   "source": [
    "'hello this is a test'.split()"
   ]
  },
  {
   "cell_type": "markdown",
   "metadata": {},
   "source": [
    "### Lists"
   ]
  },
  {
   "cell_type": "code",
   "execution_count": 49,
   "metadata": {},
   "outputs": [
    {
     "name": "stdout",
     "output_type": "stream",
     "text": [
      "[1, 'hello', 3, 'goodbye']\n",
      "['h', 'e', 'l', 'l', 'o']\n"
     ]
    }
   ],
   "source": [
    "# Create a list by hard coding things into it\n",
    "# Notice: lists are enclosed with [] \n",
    "my_first_lst = [1, 'hello', 3, 'goodbye']\n",
    "\n",
    "# Create a list by wrapping list() around\n",
    "# something you want to split apart\n",
    "my_second_lst = list('hello')\n",
    "\n",
    "print(my_first_lst)\n",
    "print(my_second_lst)"
   ]
  },
  {
   "cell_type": "code",
   "execution_count": 50,
   "metadata": {},
   "outputs": [
    {
     "name": "stdout",
     "output_type": "stream",
     "text": [
      "[[1, 2, 3], ['erin', 'bob']]\n",
      "[1, 2, 3]\n",
      "erin\n"
     ]
    }
   ],
   "source": [
    "# You can also create lists of lists\n",
    "list_of_lists = [[1,2,3], ['erin', 'bob']]\n",
    "print(list_of_lists)\n",
    "# look what happens when you index into a list of lists\n",
    "print(list_of_lists[0])\n",
    "# what about getting into an inside list?\n",
    "print(list_of_lists[1][0])"
   ]
  },
  {
   "cell_type": "markdown",
   "metadata": {},
   "source": [
    "### List Methods"
   ]
  },
  {
   "cell_type": "code",
   "execution_count": 58,
   "metadata": {},
   "outputs": [],
   "source": [
    "my_list = [1,2,3,'erin']\n",
    "\n",
    "# .tab-complete to see methods for lists\n",
    "copy_list = my_list.copy()"
   ]
  },
  {
   "cell_type": "code",
   "execution_count": 59,
   "metadata": {},
   "outputs": [
    {
     "data": {
      "text/plain": [
       "[1, 2, 3, 'erin']"
      ]
     },
     "execution_count": 59,
     "metadata": {},
     "output_type": "execute_result"
    }
   ],
   "source": [
    "copy_list"
   ]
  },
  {
   "cell_type": "code",
   "execution_count": 60,
   "metadata": {},
   "outputs": [],
   "source": [
    "copy_list.append(7)"
   ]
  },
  {
   "cell_type": "code",
   "execution_count": 61,
   "metadata": {},
   "outputs": [
    {
     "data": {
      "text/plain": [
       "[1, 2, 3, 'erin', 7]"
      ]
     },
     "execution_count": 61,
     "metadata": {},
     "output_type": "execute_result"
    }
   ],
   "source": [
    "copy_list"
   ]
  },
  {
   "cell_type": "code",
   "execution_count": 62,
   "metadata": {},
   "outputs": [
    {
     "data": {
      "text/plain": [
       "[1, 2, 3, 'erin']"
      ]
     },
     "execution_count": 62,
     "metadata": {},
     "output_type": "execute_result"
    }
   ],
   "source": [
    "my_list"
   ]
  },
  {
   "cell_type": "code",
   "execution_count": 81,
   "metadata": {},
   "outputs": [],
   "source": [
    "my_lst = [1, 3, 2, 4]"
   ]
  },
  {
   "cell_type": "code",
   "execution_count": 76,
   "metadata": {},
   "outputs": [
    {
     "name": "stdout",
     "output_type": "stream",
     "text": [
      "[1, 2, 3, 4, 5]\n"
     ]
    }
   ],
   "source": [
    "# add an element to list\n",
    "my_lst.append(5)\n",
    "print(my_lst)"
   ]
  },
  {
   "cell_type": "code",
   "execution_count": 77,
   "metadata": {},
   "outputs": [
    {
     "name": "stdout",
     "output_type": "stream",
     "text": [
      "5\n",
      "[1, 2, 3, 4]\n"
     ]
    }
   ],
   "source": [
    "# remove last element and print it\n",
    "print(my_lst.pop())\n",
    "print(my_lst)"
   ]
  },
  {
   "cell_type": "code",
   "execution_count": 78,
   "metadata": {},
   "outputs": [
    {
     "name": "stdout",
     "output_type": "stream",
     "text": [
      "[1, 2, 4]\n"
     ]
    }
   ],
   "source": [
    "# remove element from list\n",
    "my_lst.remove(my_lst[2])\n",
    "print(my_lst)"
   ]
  },
  {
   "cell_type": "code",
   "execution_count": 79,
   "metadata": {},
   "outputs": [
    {
     "name": "stdout",
     "output_type": "stream",
     "text": [
      "[1, 3, 2]\n"
     ]
    }
   ],
   "source": [
    "# reverse order of list\n",
    "my_lst2 = [2, 3, 1]\n",
    "my_lst2.reverse()\n",
    "print(my_lst2)"
   ]
  },
  {
   "cell_type": "code",
   "execution_count": 83,
   "metadata": {},
   "outputs": [
    {
     "data": {
      "text/plain": [
       "[1, 3, 2, 4]"
      ]
     },
     "execution_count": 83,
     "metadata": {},
     "output_type": "execute_result"
    }
   ],
   "source": [
    "my_lst"
   ]
  },
  {
   "cell_type": "code",
   "execution_count": 84,
   "metadata": {},
   "outputs": [
    {
     "name": "stdout",
     "output_type": "stream",
     "text": [
      "[1, 2, 3, 4]\n"
     ]
    }
   ],
   "source": [
    "# sort the list\n",
    "\n",
    "my_lst.sort()\n",
    "print(my_lst)"
   ]
  },
  {
   "cell_type": "markdown",
   "metadata": {},
   "source": [
    "### List Iteration"
   ]
  },
  {
   "cell_type": "code",
   "execution_count": 85,
   "metadata": {},
   "outputs": [
    {
     "name": "stdout",
     "output_type": "stream",
     "text": [
      "1\n",
      "2\n",
      "3\n",
      "4\n",
      "5\n",
      "6\n"
     ]
    }
   ],
   "source": [
    "# define a list\n",
    "list_of_nums = [1,2,3,4,5,6]\n",
    "\n",
    "# loop through list and print\n",
    "for num in list_of_nums:\n",
    "    print(num)"
   ]
  },
  {
   "cell_type": "code",
   "execution_count": 87,
   "metadata": {},
   "outputs": [],
   "source": [
    "i, v = 2, \"c\""
   ]
  },
  {
   "cell_type": "code",
   "execution_count": 88,
   "metadata": {},
   "outputs": [
    {
     "data": {
      "text/plain": [
       "2"
      ]
     },
     "execution_count": 88,
     "metadata": {},
     "output_type": "execute_result"
    }
   ],
   "source": [
    "i"
   ]
  },
  {
   "cell_type": "code",
   "execution_count": 89,
   "metadata": {},
   "outputs": [
    {
     "data": {
      "text/plain": [
       "'c'"
      ]
     },
     "execution_count": 89,
     "metadata": {},
     "output_type": "execute_result"
    }
   ],
   "source": [
    "v"
   ]
  },
  {
   "cell_type": "code",
   "execution_count": 94,
   "metadata": {},
   "outputs": [],
   "source": [
    "list_of_letters = ['a','b','c','d','e']\n",
    "\n",
    "a = enumerate(list_of_letters)"
   ]
  },
  {
   "cell_type": "code",
   "execution_count": 92,
   "metadata": {},
   "outputs": [
    {
     "name": "stdout",
     "output_type": "stream",
     "text": [
      "(0, 'a')\n",
      "(1, 'b')\n",
      "(2, 'c')\n",
      "(3, 'd')\n",
      "(4, 'e')\n"
     ]
    }
   ],
   "source": [
    "# What if you need the index in a list?\n",
    "# There's a special method for that called\n",
    "# enumerate()\n",
    "\n",
    "list_of_letters = ['a','b','c','d','e']\n",
    "\n",
    "for index in enumerate(list_of_letters):\n",
    "    print(index)"
   ]
  },
  {
   "cell_type": "code",
   "execution_count": 97,
   "metadata": {},
   "outputs": [],
   "source": [
    "list_of_nums = list(range(30, 100, 2)) \n",
    "# list_of_nums"
   ]
  },
  {
   "cell_type": "code",
   "execution_count": 98,
   "metadata": {},
   "outputs": [
    {
     "name": "stdout",
     "output_type": "stream",
     "text": [
      "0 30 FizzBuzz\n",
      "1 32\n",
      "2 34\n",
      "3 36 Fizz\n",
      "4 38\n",
      "5 40 Buzz\n",
      "6 42 Fizz\n",
      "7 44\n",
      "8 46\n",
      "9 48 Fizz\n",
      "10 50 Buzz\n",
      "11 52\n",
      "12 54 Fizz\n",
      "13 56\n",
      "14 58\n",
      "15 60 FizzBuzz\n",
      "16 62\n",
      "17 64\n",
      "18 66 Fizz\n",
      "19 68\n",
      "20 70 Buzz\n",
      "21 72 Fizz\n",
      "22 74\n",
      "23 76\n",
      "24 78 Fizz\n",
      "25 80 Buzz\n",
      "26 82\n",
      "27 84 Fizz\n",
      "28 86\n",
      "29 88\n",
      "30 90 FizzBuzz\n",
      "31 92\n",
      "32 94\n",
      "33 96 Fizz\n",
      "34 98\n"
     ]
    }
   ],
   "source": [
    "# Class challenge answer\n",
    "\n",
    "list_of_nums = list(range(30, 100, 2)) # list of numbers from 30 to 100 by 3rd number\n",
    "\n",
    "for idx, num in enumerate(list_of_nums):\n",
    "    \n",
    "    if (num % 3 == 0) and (idx % 5 == 0):\n",
    "        print(idx, num, 'FizzBuzz')\n",
    "    elif num % 3 == 0:\n",
    "        print(idx, num, 'Fizz')\n",
    "    elif num % 5 == 0:\n",
    "        print(idx, num, 'Buzz')\n",
    "    else:\n",
    "        print(idx, num)\n",
    "    \n"
   ]
  },
  {
   "cell_type": "markdown",
   "metadata": {},
   "source": [
    "### List Comprehensions"
   ]
  },
  {
   "cell_type": "code",
   "execution_count": 101,
   "metadata": {},
   "outputs": [
    {
     "name": "stdout",
     "output_type": "stream",
     "text": [
      "num: 1\n",
      "num **2: 1\n",
      "\n",
      "num: 2\n",
      "num **2: 4\n",
      "\n",
      "num: 3\n",
      "num **2: 9\n",
      "\n",
      "num: 4\n",
      "num **2: 16\n",
      "\n",
      "num: 5\n",
      "num **2: 25\n",
      "\n",
      "num: 6\n",
      "num **2: 36\n",
      "\n",
      "[1, 2, 3, 4, 5, 6]\n",
      "[1, 4, 9, 16, 25, 36]\n"
     ]
    }
   ],
   "source": [
    "# Let's transform this for loop into a comprehension loop\n",
    "my_list = [1,2,3,4,5,6]\n",
    "\n",
    "# create an empty list that you will populate\n",
    "my_squares = []\n",
    "\n",
    "# loop through your number list and append\n",
    "# the square of each number to the new list\n",
    "for num in my_list:\n",
    "    print(\"num: {}\".format(num))\n",
    "    print(\"num **2: {}\\n\".format(num ** 2))\n",
    "    my_squares.append(num**2)\n",
    "\n",
    "print(my_list)\n",
    "print(my_squares)"
   ]
  },
  {
   "cell_type": "code",
   "execution_count": 115,
   "metadata": {},
   "outputs": [],
   "source": [
    "# Now let's do the same thing with a list comprehension\n",
    "my_squares_comp = [num**2 if num != 4 else 44444 for num in my_list]"
   ]
  },
  {
   "cell_type": "code",
   "execution_count": 116,
   "metadata": {},
   "outputs": [
    {
     "name": "stdout",
     "output_type": "stream",
     "text": [
      "[1, 2, 3, 4, 5, 6]\n",
      "[1, 4, 9, 16, 25, 36]\n",
      "[1, 4, 9, 44444, 25, 36]\n"
     ]
    }
   ],
   "source": [
    "# Walk through this on white board\n",
    "\n",
    "print(my_list)\n",
    "print(my_squares)\n",
    "print(my_squares_comp)"
   ]
  },
  {
   "cell_type": "code",
   "execution_count": 118,
   "metadata": {},
   "outputs": [],
   "source": [
    "# What about building a list with a conditional?\n",
    "my_num_list = [1,2,3,4,89,1234]\n",
    "\n",
    "even_numbers = []\n",
    "for num in my_num_list:\n",
    "    if num % 2 == 0:\n",
    "        even_numbers.append(num)"
   ]
  },
  {
   "cell_type": "code",
   "execution_count": 119,
   "metadata": {},
   "outputs": [],
   "source": [
    "# Now with list comprehension\n",
    "even_numbers_comp = [num if num % 2 == 0 else 77 for num in my_num_list]"
   ]
  },
  {
   "cell_type": "code",
   "execution_count": 120,
   "metadata": {},
   "outputs": [
    {
     "name": "stdout",
     "output_type": "stream",
     "text": [
      "[2, 4, 1234]\n",
      "[77, 2, 77, 4, 77, 1234]\n"
     ]
    }
   ],
   "source": [
    "print(even_numbers)\n",
    "print(even_numbers_comp)"
   ]
  },
  {
   "cell_type": "code",
   "execution_count": 68,
   "metadata": {},
   "outputs": [],
   "source": [
    "# Class challenge question and answer\n",
    "class_names = ['bob', 'sally', 'fred']\n",
    "short_names = [ ]\n",
    "for name in class_names:\n",
    "    if len(name) <= 3:\n",
    "        short_names.append(name)"
   ]
  },
  {
   "cell_type": "code",
   "execution_count": 69,
   "metadata": {},
   "outputs": [],
   "source": [
    "short_names_comp = [name for name in class_names if len(name) <= 3]"
   ]
  },
  {
   "cell_type": "code",
   "execution_count": 70,
   "metadata": {},
   "outputs": [
    {
     "name": "stdout",
     "output_type": "stream",
     "text": [
      "['bob']\n",
      "['bob']\n"
     ]
    }
   ],
   "source": [
    "print(short_names)\n",
    "print(short_names_comp)"
   ]
  },
  {
   "cell_type": "code",
   "execution_count": null,
   "metadata": {},
   "outputs": [],
   "source": []
  }
 ],
 "metadata": {
  "kernelspec": {
   "display_name": "Python 3",
   "language": "python",
   "name": "python3"
  },
  "language_info": {
   "codemirror_mode": {
    "name": "ipython",
    "version": 3
   },
   "file_extension": ".py",
   "mimetype": "text/x-python",
   "name": "python",
   "nbconvert_exporter": "python",
   "pygments_lexer": "ipython3",
   "version": "3.6.8"
  }
 },
 "nbformat": 4,
 "nbformat_minor": 2
}
