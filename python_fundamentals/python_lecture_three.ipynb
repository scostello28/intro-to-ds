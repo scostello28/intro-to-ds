{
 "cells": [
  {
   "cell_type": "markdown",
   "metadata": {},
   "source": [
    "### Mutability\n",
    "##### The capability of an object to be changed after it has been instantiated."
   ]
  },
  {
   "cell_type": "code",
   "execution_count": 1,
   "metadata": {},
   "outputs": [],
   "source": [
    "# Lists are mutable\n",
    "my_list = list(range(10))\n",
    "print(my_list)\n",
    "id(my_list)"
   ]
  },
  {
   "cell_type": "code",
   "execution_count": 2,
   "metadata": {},
   "outputs": [],
   "source": [
    "# Change the element at the 4th index\n",
    "my_list[4] = 0\n",
    "print(my_list)\n",
    "id(my_list)"
   ]
  },
  {
   "cell_type": "code",
   "execution_count": 3,
   "metadata": {},
   "outputs": [],
   "source": [
    "# Append a number to the end of a list\n",
    "my_list.append(1)\n",
    "print(my_list)\n",
    "id(my_list)"
   ]
  },
  {
   "cell_type": "markdown",
   "metadata": {},
   "source": [
    "### Can Change Variables of Immutable Objects"
   ]
  },
  {
   "cell_type": "code",
   "execution_count": 4,
   "metadata": {},
   "outputs": [],
   "source": [
    "x = 4\n",
    "print(x)\n",
    "id(x)"
   ]
  },
  {
   "cell_type": "code",
   "execution_count": 5,
   "metadata": {},
   "outputs": [],
   "source": [
    "x = 12\n",
    "print(x)\n",
    "id(x)"
   ]
  },
  {
   "cell_type": "code",
   "execution_count": 6,
   "metadata": {},
   "outputs": [],
   "source": [
    "x == x"
   ]
  },
  {
   "cell_type": "code",
   "execution_count": 7,
   "metadata": {},
   "outputs": [
    {
     "data": {
      "text/plain": [
       "False"
      ]
     },
     "execution_count": 7,
     "metadata": {},
     "output_type": "execute_result"
    }
   ],
   "source": [
    "4 == 12"
   ]
  },
  {
   "cell_type": "code",
   "execution_count": 8,
   "metadata": {},
   "outputs": [],
   "source": [
    "# Basically, when you assign a value to a variable, Python holds that \n",
    "# value in memory, then associates that variable name with that value. When\n",
    "# you change the value the variable holds, Python just associates that \n",
    "# name with a different thing in memory."
   ]
  },
  {
   "cell_type": "markdown",
   "metadata": {},
   "source": [
    "### Tuples"
   ]
  },
  {
   "cell_type": "code",
   "execution_count": 9,
   "metadata": {},
   "outputs": [
    {
     "name": "stdout",
     "output_type": "stream",
     "text": [
      "(1, 2)\n",
      "(1, 2)\n",
      "(1, 2)\n"
     ]
    }
   ],
   "source": [
    "# Let's create some tuples\n",
    "a_tuple = 1, 2\n",
    "another_tuple = (1, 2)\n",
    "yet_another_tuple = tuple([1, 2])\n",
    "\n",
    "print(a_tuple)\n",
    "print(another_tuple)\n",
    "print(yet_another_tuple)"
   ]
  },
  {
   "cell_type": "code",
   "execution_count": null,
   "metadata": {},
   "outputs": [],
   "source": []
  },
  {
   "cell_type": "code",
   "execution_count": 10,
   "metadata": {},
   "outputs": [
    {
     "name": "stdout",
     "output_type": "stream",
     "text": [
      "[2, 4, 8, 10]\n"
     ]
    }
   ],
   "source": [
    "# Typle vs List\n",
    "some_collection = [2,3,4,7,8,10]\n",
    "\n",
    "# Grab evens from some collection using a list\n",
    "evens = []\n",
    "for element in some_collection:\n",
    "    if element % 2 == 0:\n",
    "        evens.append(element)\n",
    "print(evens)"
   ]
  },
  {
   "cell_type": "code",
   "execution_count": 11,
   "metadata": {},
   "outputs": [
    {
     "ename": "AttributeError",
     "evalue": "'tuple' object has no attribute 'append'",
     "output_type": "error",
     "traceback": [
      "\u001b[0;31m---------------------------------------------------------------------------\u001b[0m",
      "\u001b[0;31mAttributeError\u001b[0m                            Traceback (most recent call last)",
      "\u001b[0;32m<ipython-input-11-fda06b985e3f>\u001b[0m in \u001b[0;36m<module>\u001b[0;34m()\u001b[0m\n\u001b[1;32m      3\u001b[0m \u001b[0;32mfor\u001b[0m \u001b[0melement\u001b[0m \u001b[0;32min\u001b[0m \u001b[0msome_collection\u001b[0m\u001b[0;34m:\u001b[0m\u001b[0;34m\u001b[0m\u001b[0m\n\u001b[1;32m      4\u001b[0m     \u001b[0;32mif\u001b[0m \u001b[0melement\u001b[0m \u001b[0;34m%\u001b[0m \u001b[0;36m2\u001b[0m \u001b[0;34m==\u001b[0m \u001b[0;36m0\u001b[0m\u001b[0;34m:\u001b[0m\u001b[0;34m\u001b[0m\u001b[0m\n\u001b[0;32m----> 5\u001b[0;31m         \u001b[0mevens\u001b[0m\u001b[0;34m.\u001b[0m\u001b[0mappend\u001b[0m\u001b[0;34m(\u001b[0m\u001b[0melement\u001b[0m\u001b[0;34m)\u001b[0m\u001b[0;34m\u001b[0m\u001b[0m\n\u001b[0m\u001b[1;32m      6\u001b[0m \u001b[0;34m\u001b[0m\u001b[0m\n\u001b[1;32m      7\u001b[0m \u001b[0;31m# See the error, you cannot append to a tuple because it's immutable\u001b[0m\u001b[0;34m\u001b[0m\u001b[0;34m\u001b[0m\u001b[0m\n",
      "\u001b[0;31mAttributeError\u001b[0m: 'tuple' object has no attribute 'append'"
     ]
    }
   ],
   "source": [
    "# Grab evens from some collection using a tuple\n",
    "evens = ()\n",
    "for element in some_collection:\n",
    "    if element % 2 == 0:\n",
    "        evens.append(element)\n",
    "        \n",
    "# See the error, you cannot append to a tuple because it's immutable"
   ]
  },
  {
   "cell_type": "code",
   "execution_count": null,
   "metadata": {},
   "outputs": [],
   "source": [
    "# Create a tuple\n",
    "t = (1, 3.5, 'sam')\n",
    "\n",
    "# Tuples can hold any object, just like a list\n",
    "print(type(t[0]))\n",
    "print(type(t[1]))\n",
    "print(type(t[2]))"
   ]
  },
  {
   "cell_type": "code",
   "execution_count": null,
   "metadata": {},
   "outputs": [],
   "source": [
    "# Create a tuple\n",
    "t = (1, [1, 2])\n",
    "\n",
    "# Tuples can hold lists inside them!\n",
    "print(type(t[1]))"
   ]
  },
  {
   "cell_type": "code",
   "execution_count": null,
   "metadata": {},
   "outputs": [],
   "source": [
    "# Create a tuple\n",
    "t = (1, [1, 2])\n",
    "\n",
    "# You can even update a list that is inside a tuple!\n",
    "t[1][0] = 'hello'\n",
    "print(t)\n",
    "id(t)\n",
    "# You can store mutable objects inside immutable objects."
   ]
  },
  {
   "cell_type": "code",
   "execution_count": null,
   "metadata": {},
   "outputs": [],
   "source": [
    "# Let's do it again\n",
    "my_tuple = (1, 5, ['erin', 'desmond'])\n",
    "print(id(my_tuple))\n",
    "# We can use append because we indexed into the list\n",
    "my_tuple[2].append('is so cool')\n",
    "\n",
    "print(my_tuple)\n",
    "id(my_tuple)"
   ]
  },
  {
   "cell_type": "code",
   "execution_count": null,
   "metadata": {},
   "outputs": [],
   "source": [
    "# The only methods strictly associated with tupes are count() and index()\n",
    "\n",
    "tuple_demo = (3,5,7,7, ['a string in a list'])\n",
    "print(tuple_demo)"
   ]
  },
  {
   "cell_type": "code",
   "execution_count": null,
   "metadata": {},
   "outputs": [],
   "source": [
    "# count()\n",
    "print('Number of times 7 appears in tuple: {}'.format(tuple_demo.count(7)))"
   ]
  },
  {
   "cell_type": "code",
   "execution_count": null,
   "metadata": {},
   "outputs": [],
   "source": [
    "# index()\n",
    "print('Index of that weird list:', tuple_demo.index(['a string in a list']))"
   ]
  },
  {
   "cell_type": "code",
   "execution_count": null,
   "metadata": {},
   "outputs": [],
   "source": [
    "# Class challenge answer\n",
    "\n",
    "my_tuple = (1,4,7,3,['a list', 4], 56)\n",
    "\n",
    "to_add = ['hello', 45]\n",
    "\n",
    "for each in to_add:\n",
    "    my_tuple[4].append(each)\n",
    "\n",
    "print(my_tuple)"
   ]
  },
  {
   "cell_type": "markdown",
   "metadata": {},
   "source": [
    "### Dictionaries"
   ]
  },
  {
   "cell_type": "code",
   "execution_count": null,
   "metadata": {},
   "outputs": [],
   "source": [
    "# Let's build a dictionary of states and capitols \n",
    "# If you order them in a list, it'll look like this:\n",
    "states_caps = [('Georgia', 'Atlanta'), ('Colorado', 'Denver'), ('Indiana', 'Indianapolis')]\n",
    "print(states_caps)"
   ]
  },
  {
   "cell_type": "code",
   "execution_count": null,
   "metadata": {},
   "outputs": [],
   "source": [
    "# Cool. But what do you do with this? Is this very readable? \n",
    "# To search for the capitol of Colorado, you'd have to search the entirety\n",
    "# of the list until you found it - this is inefficient.\n",
    "search_state = 'Indiana'\n",
    "capital = 'State not found'\n",
    "for state, state_capital in states_caps:\n",
    "    if state == search_state:\n",
    "        capital = state_capital\n",
    "        break\n",
    "print(capital)"
   ]
  },
  {
   "cell_type": "code",
   "execution_count": null,
   "metadata": {},
   "outputs": [],
   "source": [
    "# Scratch that, let's throw these into a dictionary.\n",
    "states_caps_dict = {'Georgia': 'Atlanta', 'Colorado': 'Denver', 'Indiana': 'Indianapolis'}\n",
    "print(states_caps_dict)\n",
    "\n",
    "# Notice the {}, the : and the , "
   ]
  },
  {
   "cell_type": "code",
   "execution_count": null,
   "metadata": {},
   "outputs": [],
   "source": [
    "# Now let's search for the capitol of Colorad\n",
    "print(states_caps_dict['Colorado'])"
   ]
  },
  {
   "cell_type": "code",
   "execution_count": null,
   "metadata": {},
   "outputs": [],
   "source": [
    "# If a key does not exist in the dictionary, it will throw an error\n",
    "print(states_caps_dict['Hawaii'])"
   ]
  },
  {
   "cell_type": "code",
   "execution_count": null,
   "metadata": {},
   "outputs": [],
   "source": [
    "# How do you know if you have a specific key in your dict?\n",
    "states_caps_dict.get('Hawaii', 'State not found')"
   ]
  },
  {
   "cell_type": "code",
   "execution_count": null,
   "metadata": {},
   "outputs": [],
   "source": [
    "# Dictionaries are mutable! But their keys are not, and their keys MUST\n",
    "# be unique\n",
    "\n",
    "# Let's change the value associated with a key in a dictionary"
   ]
  },
  {
   "cell_type": "code",
   "execution_count": null,
   "metadata": {},
   "outputs": [],
   "source": [
    "# Instantiate the dictionary\n",
    "my_dict = {'thing': 1, 'other': 2}\n",
    "\n",
    "# Print the value associated with the key 'thing'\n",
    "print(my_dict['thing'])"
   ]
  },
  {
   "cell_type": "code",
   "execution_count": null,
   "metadata": {},
   "outputs": [],
   "source": [
    "# Change the value associated with the key 'thing'\n",
    "my_dict['thing'] = 3\n",
    "print(my_dict)"
   ]
  },
  {
   "cell_type": "code",
   "execution_count": null,
   "metadata": {},
   "outputs": [],
   "source": [
    "# Add a key-value pair to our dictionary\n",
    "my_dict['the coolest'] = 'erin'\n",
    "print(my_dict)"
   ]
  },
  {
   "cell_type": "code",
   "execution_count": null,
   "metadata": {},
   "outputs": [],
   "source": [
    "# Note: THE KEYS IN DICTIONARIES MUST BY IMMUTABLE AND UNIQUE\n",
    "# This means, you cannot assign a list as a key in a dictionary\n",
    "\n",
    "my_dict_test = {['a list']: 4}\n",
    "\n",
    "# Notice the reference to hash maps, read more if you're interested"
   ]
  },
  {
   "cell_type": "markdown",
   "metadata": {},
   "source": [
    "### Dictionary Looping"
   ]
  },
  {
   "cell_type": "code",
   "execution_count": null,
   "metadata": {},
   "outputs": [],
   "source": [
    "# Let's print out the keys of a dictionary\n",
    "\n",
    "# Create a dictionary\n",
    "ages_dict = {'sam':45, 'bob':20, 'erin':30, 'jenny': 21}\n",
    "\n",
    "# This will print the keys in my dictionary\n",
    "for name in ages_dict:\n",
    "    print(name)\n",
    "\n",
    "print('\\n')\n",
    "# same thing, just using .keys()\n",
    "for name in ages_dict.keys():\n",
    "    print(name)\n",
    "    \n",
    "# Usually these will print unordered"
   ]
  },
  {
   "cell_type": "code",
   "execution_count": null,
   "metadata": {},
   "outputs": [],
   "source": [
    "# What if you wanted to print the values and not the keys? .values()\n",
    "\n",
    "for age in ages_dict.values():\n",
    "    print(age)"
   ]
  },
  {
   "cell_type": "code",
   "execution_count": null,
   "metadata": {},
   "outputs": [],
   "source": [
    "# What if you wanted to print both? .items()\n",
    "\n",
    "for name, age in ages_dict.items():\n",
    "    print(name, age)"
   ]
  },
  {
   "cell_type": "code",
   "execution_count": null,
   "metadata": {},
   "outputs": [],
   "source": [
    "# Maybe you want to print them together as tuples:\n",
    "for people in ages_dict.items():\n",
    "    print([people[1], people[0]])"
   ]
  },
  {
   "cell_type": "code",
   "execution_count": null,
   "metadata": {},
   "outputs": [],
   "source": [
    "# Class challenge answer\n",
    "\n",
    "class_dict = {'erin': 30, 'sean': 32}\n",
    "my_name = 'sally'\n",
    "my_age = 34\n",
    "\n",
    "if my_name not in class_dict.keys():\n",
    "    class_dict[my_name] = my_age\n",
    "\n",
    "print(class_dict)"
   ]
  },
  {
   "cell_type": "code",
   "execution_count": null,
   "metadata": {},
   "outputs": [],
   "source": []
  },
  {
   "cell_type": "markdown",
   "metadata": {},
   "source": [
    "### Sets"
   ]
  },
  {
   "cell_type": "code",
   "execution_count": null,
   "metadata": {},
   "outputs": [],
   "source": [
    "# Let's make a set\n",
    "my_set = set([1, 2, 3, 3])\n",
    "my_other_set = {1,2,3}\n",
    "print(my_set, my_other_set)"
   ]
  },
  {
   "cell_type": "code",
   "execution_count": null,
   "metadata": {},
   "outputs": [],
   "source": [
    "# Let's see if those two are equal\n",
    "my_set == my_other_set"
   ]
  },
  {
   "cell_type": "code",
   "execution_count": null,
   "metadata": {},
   "outputs": [],
   "source": [
    "# Let's explore set methods, press .tab\n",
    "my_set"
   ]
  },
  {
   "cell_type": "code",
   "execution_count": null,
   "metadata": {},
   "outputs": [],
   "source": [
    "my_set = set([1, 2, 3])\n",
    "my_other_set = {5,6,7}"
   ]
  },
  {
   "cell_type": "code",
   "execution_count": null,
   "metadata": {},
   "outputs": [],
   "source": [
    "# Let's check the union between the two sets\n",
    "my_set.union(my_other_set)"
   ]
  },
  {
   "cell_type": "code",
   "execution_count": null,
   "metadata": {},
   "outputs": [],
   "source": [
    "# Let's add some number to our set\n",
    "my_set.add(4)\n",
    "print(my_set)"
   ]
  },
  {
   "cell_type": "code",
   "execution_count": null,
   "metadata": {},
   "outputs": [],
   "source": [
    "# Now let's update one set by adding another set to it\n",
    "my_set.update(my_other_set)\n",
    "print(my_set)"
   ]
  },
  {
   "cell_type": "code",
   "execution_count": null,
   "metadata": {},
   "outputs": [],
   "source": [
    "# Let's get rid of the number 5 in our set\n",
    "my_set.remove(5)\n",
    "print(my_set)"
   ]
  },
  {
   "cell_type": "code",
   "execution_count": null,
   "metadata": {},
   "outputs": [],
   "source": [
    "# How about the intersection?\n",
    "my_set.intersection(my_other_set)"
   ]
  },
  {
   "cell_type": "markdown",
   "metadata": {},
   "source": [
    "### Set Speed"
   ]
  },
  {
   "cell_type": "code",
   "execution_count": null,
   "metadata": {},
   "outputs": [],
   "source": [
    "# Let's create a list of 10000 numbers\n",
    "my_list = list(range(10000))\n",
    "\n",
    "# Now let's turn that into a set\n",
    "my_set = set(my_list)"
   ]
  },
  {
   "cell_type": "code",
   "execution_count": null,
   "metadata": {},
   "outputs": [],
   "source": [
    "# time 1000 loops\n",
    "%timeit 1000 in my_list"
   ]
  },
  {
   "cell_type": "code",
   "execution_count": null,
   "metadata": {},
   "outputs": [],
   "source": [
    "# Another way to time it:\n",
    "%timeit 1000 in my_list\n",
    "\n",
    "%timeit 1000 in my_set"
   ]
  },
  {
   "cell_type": "markdown",
   "metadata": {},
   "source": [
    "### Dictionary Comprehension"
   ]
  },
  {
   "cell_type": "code",
   "execution_count": null,
   "metadata": {},
   "outputs": [],
   "source": [
    "# Let's create a dictionary with a for loop\n",
    "\n",
    "squares_dict = {}\n",
    "for num in range(1, 6):\n",
    "    squares_dict[num] = num**2\n",
    "print(squares_dict)"
   ]
  },
  {
   "cell_type": "code",
   "execution_count": null,
   "metadata": {},
   "outputs": [],
   "source": [
    "# Now let's do the exact same thing with a dictionary comprehension\n",
    "\n",
    "squares_dict_comp = {num: num**2 for num in range(1, 6)}\n",
    "print(squares_dict_comp)"
   ]
  },
  {
   "cell_type": "code",
   "execution_count": null,
   "metadata": {},
   "outputs": [],
   "source": [
    "# Class challenge answer\n",
    "from random import randint\n",
    "my_dict = {name: randint(1,100)**2 for name in names_list}"
   ]
  },
  {
   "cell_type": "code",
   "execution_count": null,
   "metadata": {},
   "outputs": [],
   "source": []
  },
  {
   "cell_type": "code",
   "execution_count": null,
   "metadata": {},
   "outputs": [],
   "source": []
  },
  {
   "cell_type": "code",
   "execution_count": null,
   "metadata": {},
   "outputs": [],
   "source": []
  },
  {
   "cell_type": "code",
   "execution_count": null,
   "metadata": {},
   "outputs": [],
   "source": []
  }
 ],
 "metadata": {
  "kernelspec": {
   "display_name": "Python 3",
   "language": "python",
   "name": "python3"
  },
  "language_info": {
   "codemirror_mode": {
    "name": "ipython",
    "version": 3
   },
   "file_extension": ".py",
   "mimetype": "text/x-python",
   "name": "python",
   "nbconvert_exporter": "python",
   "pygments_lexer": "ipython3",
   "version": "3.6.5"
  }
 },
 "nbformat": 4,
 "nbformat_minor": 2
}
