{
 "cells": [
  {
   "cell_type": "code",
   "execution_count": 1,
   "metadata": {},
   "outputs": [],
   "source": [
    "def calculate_ball_probability(red, green, purple, k):\n",
    "    '''\n",
    "    Calculate the probability that it takes k draws to match the\n",
    "    ball drawn on draw zero\n",
    "\n",
    "    Parameters\n",
    "    ----------\n",
    "    red: {int} Number of red balls\n",
    "    green: {int} Number of green balls\n",
    "    purple: {int} Number of purple balls\n",
    "    k: {int} number of draw to calculate probability for\n",
    "\n",
    "    Returns\n",
    "    -------\n",
    "    final_probability: {float} probability\n",
    "    '''\n",
    "    # total number of balls\n",
    "    total = red + green + purple\n",
    "    \n",
    "    # initialize the final proba of k draws to match the first ball drawn\n",
    "    final_probability = 0\n",
    "    \n",
    "    # loop through the three balls\n",
    "    for ball in (red, green, purple):\n",
    "        \n",
    "        # establish the equation\n",
    "        denominator = total\n",
    "        \n",
    "        # numerator is the total minus whatever ball you initially draw\n",
    "        numerator = total - ball\n",
    "        \n",
    "        # probability for draw zero\n",
    "        # recall that ball is your variable and is either red, green, purple\n",
    "        probability = ball / denominator\n",
    "        \n",
    "        # now subtract that ball because you already drew it\n",
    "        ball -= 1\n",
    "        \n",
    "        # and subtract the denom because you're one ball less after the draw\n",
    "        denominator -= 1\n",
    "        \n",
    "        #calculate probability for non-matching draws\n",
    "        for _ in range(1, k):\n",
    "            probability = probability * numerator / denominator\n",
    "            numerator -= 1\n",
    "            denominator -= 1\n",
    "            \n",
    "        #probabilty for final draw\n",
    "        probability = probability * ball / denominator\n",
    "        \n",
    "        # add to total\n",
    "        final_probability += probability\n",
    "        \n",
    "    return final_probability"
   ]
  },
  {
   "cell_type": "code",
   "execution_count": 4,
   "metadata": {},
   "outputs": [
    {
     "name": "stdout",
     "output_type": "stream",
     "text": [
      "0.158\n"
     ]
    }
   ],
   "source": [
    "print(\"{:.3f}\".format(calculate_ball_probability(red=2, green=4, purple=5, k=3)))"
   ]
  },
  {
   "cell_type": "code",
   "execution_count": null,
   "metadata": {},
   "outputs": [],
   "source": []
  }
 ],
 "metadata": {
  "kernelspec": {
   "display_name": "Python 3",
   "language": "python",
   "name": "python3"
  },
  "language_info": {
   "codemirror_mode": {
    "name": "ipython",
    "version": 3
   },
   "file_extension": ".py",
   "mimetype": "text/x-python",
   "name": "python",
   "nbconvert_exporter": "python",
   "pygments_lexer": "ipython3",
   "version": "3.6.5"
  }
 },
 "nbformat": 4,
 "nbformat_minor": 2
}
